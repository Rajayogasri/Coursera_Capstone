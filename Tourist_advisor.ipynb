{
 "cells": [
  {
   "cell_type": "markdown",
   "metadata": {},
   "source": [
    "# Tourist Advisor\n",
    "Tool that helps with the Tourist on the trip plan.  Takes the City to be visited as the input.  Finds the list of popular places to visit in the City.  Chart out a day to day itinerary."
   ]
  },
  {
   "cell_type": "code",
   "execution_count": null,
   "metadata": {},
   "outputs": [],
   "source": [
    "import requests\n",
    "import pandas as pd\n",
    "pd.set_option('display.max_rows', 500)\n",
    "\n",
    "!conda install -c conda-forge geocoder -y\n",
    "!conda install -c conda-forge geopy --yes \n",
    "from geopy.geocoders import Nominatim\n",
    "\n",
    "# import k-means from clustering stage\n",
    "from sklearn.cluster import KMeans\n",
    "\n",
    "!conda install -c conda-forge folium=0.5.0 --yes # uncomment this line if you haven't completed the Foursquare API lab\n",
    "import folium # map rendering library\n",
    "\n",
    "# Matplotlib and associated plotting modules\n",
    "import matplotlib.cm as cm\n",
    "import matplotlib.colors as colors\n",
    "import numpy as np\n",
    "\n",
    "print('Libraries imported.')"
   ]
  },
  {
   "cell_type": "code",
   "execution_count": 2,
   "metadata": {},
   "outputs": [
    {
     "name": "stdout",
     "output_type": "stream",
     "text": [
      "Your credentails:\n",
      "CLIENT_ID: LSC31VKD4CEXLCRBGKZXS1ZGXYVWG2ANHWRG0XKS1WEPBZQG\n",
      "CLIENT_SECRET:11RZFCKAHBOEKJCWFJHDQALNAIJFNBCURFYL5MZAAP40PUXA\n"
     ]
    }
   ],
   "source": [
    "CLIENT_ID = 'LSC31VKD4CEXLCRBGKZXS1ZGXYVWG2ANHWRG0XKS1WEPBZQG' # your Foursquare ID\n",
    "CLIENT_SECRET = '11RZFCKAHBOEKJCWFJHDQALNAIJFNBCURFYL5MZAAP40PUXA' # your Foursquare Secret\n",
    "VERSION = '20180605' # Foursquare API version\n",
    "\n",
    "print('Your credentails:')\n",
    "print('CLIENT_ID: ' + CLIENT_ID)\n",
    "print('CLIENT_SECRET:' + CLIENT_SECRET)"
   ]
  },
  {
   "cell_type": "markdown",
   "metadata": {},
   "source": [
    "### Step 0:  Input the City being visited and the number of days of stay"
   ]
  },
  {
   "cell_type": "code",
   "execution_count": 3,
   "metadata": {},
   "outputs": [],
   "source": [
    "address = 'Bangalore, India'\n",
    "duration = 3   # 3 days"
   ]
  },
  {
   "cell_type": "markdown",
   "metadata": {},
   "source": [
    "### Step 1:  Using geocoders Nominatim MAP API find the latitude and longitude of the City"
   ]
  },
  {
   "cell_type": "code",
   "execution_count": 4,
   "metadata": {},
   "outputs": [
    {
     "name": "stderr",
     "output_type": "stream",
     "text": [
      "/home/jupyterlab/conda/lib/python3.6/site-packages/geopy/geocoders/osm.py:143: UserWarning: Using Nominatim with the default \"geopy/1.17.0\" `user_agent` is strongly discouraged, as it violates Nominatim's ToS https://operations.osmfoundation.org/policies/nominatim/ and may possibly cause 403 and 429 HTTP errors. Please specify a custom `user_agent` with `Nominatim(user_agent=\"my-application\")` or by overriding the default `user_agent`: `geopy.geocoders.options.default_user_agent = \"my-application\"`. In geopy 2.0 this will become an exception.\n",
      "  UserWarning\n"
     ]
    },
    {
     "name": "stdout",
     "output_type": "stream",
     "text": [
      "The geograpical coordinate of Bangalore are 12.9791198, 77.5912997.\n"
     ]
    }
   ],
   "source": [
    "geolocator = Nominatim()\n",
    "location = geolocator.geocode(address)\n",
    "lat = location.latitude\n",
    "lng = location.longitude\n",
    "print('The geograpical coordinate of Bangalore are {}, {}.'.format(lat, lng))"
   ]
  },
  {
   "cell_type": "markdown",
   "metadata": {},
   "source": [
    "### Step 2: Using Foursqaure Venues/Categories API get the list of supported venue categories."
   ]
  },
  {
   "cell_type": "code",
   "execution_count": 5,
   "metadata": {},
   "outputs": [],
   "source": [
    "cat_url = 'https://api.foursquare.com/v2/venues/categories?&client_id={}&client_secret={}&v={}'.format(CLIENT_ID, \n",
    "            CLIENT_SECRET, \n",
    "            VERSION)\n",
    "cat_result = requests.get(cat_url).json()"
   ]
  },
  {
   "cell_type": "markdown",
   "metadata": {},
   "source": [
    "### Step 3:  Filter tourist attractive categories from the response"
   ]
  },
  {
   "cell_type": "code",
   "execution_count": 42,
   "metadata": {},
   "outputs": [],
   "source": [
    "tourism_categories = ['Theme Park', 'Park', 'National Park', 'Botanical Garden', 'Museum', 'Palace', 'Temple', \n",
    "                      'Aquarium', 'Planetarium', 'Zoo', 'Monument / Landmark', 'Capitol Building', 'Spiritual Center']  # Only a limited list is taken for this demo"
   ]
  },
  {
   "cell_type": "code",
   "execution_count": 61,
   "metadata": {},
   "outputs": [],
   "source": [
    "fs_tourism_cat_list = []\n",
    "fs_tourism_cat_id = []\n",
    "for c1 in cat_result['response']['categories']:\n",
    "    if c1['name'] in tourism_categories:\n",
    "        fs_tourism_cat_list.append([c1['name'],c1['id']])\n",
    "        fs_tourism_cat_id.append(c1['id'])\n",
    "    for c2 in c1['categories']:\n",
    "        if c2['name'] in tourism_categories:\n",
    "                fs_tourism_cat_list.append([c2['name'],c2['id']])\n",
    "                fs_tourism_cat_id.append(c2['id'])\n",
    "        if (len(c2['categories']) != 0):\n",
    "            for c3 in c2['categories']:\n",
    "                if c3['name'] in tourism_categories:\n",
    "                    fs_tourism_cat_list.append([c3['name'],c3['id']])\n",
    "                    fs_tourism_cat_id.append(c3['id'])\n",
    "                "
   ]
  },
  {
   "cell_type": "markdown",
   "metadata": {},
   "source": [
    "### Step 3:  List the tourism categories, so that the user can select the categories of interested to him"
   ]
  },
  {
   "cell_type": "markdown",
   "metadata": {},
   "source": [
    "#### This step is ommitted in this implementation.  Instead all the filtered tourism categories are used."
   ]
  },
  {
   "cell_type": "markdown",
   "metadata": {},
   "source": [
    "### Step 4: Using the Foursqaure Venues/explore API get the list of Venues matching the tourism categories."
   ]
  },
  {
   "cell_type": "code",
   "execution_count": 62,
   "metadata": {},
   "outputs": [],
   "source": [
    "# Parameters for the foursquare APIs\n",
    "LIMIT=100\n",
    "radius = 500000  # 500km"
   ]
  },
  {
   "cell_type": "code",
   "execution_count": 64,
   "metadata": {},
   "outputs": [],
   "source": [
    "results = []\n",
    "for index, cid in enumerate(fs_tourism_cat_id):\n",
    "    url = 'https://api.foursquare.com/v2/venues/search?&client_id={}&client_secret={}&v={}&ll={},{}&categoryId={}&radius={}&limit={}'.format(\n",
    "            CLIENT_ID, \n",
    "            CLIENT_SECRET, \n",
    "            VERSION, \n",
    "            lat, \n",
    "            lng, \n",
    "            cid,\n",
    "            radius, \n",
    "            LIMIT)\n",
    "    results.append(requests.get(url).json())"
   ]
  },
  {
   "cell_type": "markdown",
   "metadata": {},
   "source": [
    "#### Step 5: Convert the response received in the json format to Dataframe with columns, Venue Name, ID, Category, Latitude and Longitude. "
   ]
  },
  {
   "cell_type": "code",
   "execution_count": 65,
   "metadata": {},
   "outputs": [],
   "source": [
    "venues_list=[]\n",
    "for res in results:\n",
    "    if (len(res['response'])  != 0):\n",
    "        for v in res['response']['venues']:\n",
    "            # return only relevant information for each nearby venue\n",
    "            if (len(v['categories']) != 0):\n",
    "                venues_list.append((\n",
    "                    v['name'],         \n",
    "                    v['location']['lat'], \n",
    "                    v['location']['lng'],\n",
    "                    v['categories'][0]['name'],\n",
    "                    v['categories'][0]['id']))"
   ]
  },
  {
   "cell_type": "code",
   "execution_count": 67,
   "metadata": {},
   "outputs": [],
   "source": [
    "travel_venues = pd.DataFrame(venues_list)\n",
    "travel_venues.columns = ['Name', 'Latitude', 'Longtitude', 'Category', 'Id']"
   ]
  },
  {
   "cell_type": "markdown",
   "metadata": {},
   "source": [
    "### Step 6: Using the Foursquare Venues/VenueID API get the details of each travel venue.  "
   ]
  },
  {
   "cell_type": "markdown",
   "metadata": {},
   "source": [
    "### Step 7: Add the columns 'Rating' and 'Likes' to the dataframe based on the values received from the Venue details"
   ]
  },
  {
   "cell_type": "markdown",
   "metadata": {},
   "source": [
    "### Step 8: Sort the dataframe based on the Rating and Likes.  Pick up top N travel venues.  "
   ]
  },
  {
   "cell_type": "markdown",
   "metadata": {},
   "source": [
    "##### The above steps are ommitted for this implementation.  As they require multiple calls to the venue/venueID api and venue/venueID calls are limitted 50 per day in Sandbox account. Hence the top travel venues are picked up based on the below list."
   ]
  },
  {
   "cell_type": "code",
   "execution_count": 68,
   "metadata": {},
   "outputs": [],
   "source": [
    "top_travel_venues = ['Cubbon Park', 'Lalbagh Botanical Garden', 'Bangalore Fort', \"Tipu's Summer Palace\", 'Bangalore Palace', 'Vidhana Soudha', 'Government Museum', \n",
    "                    'Heritage Centre & Aerospace Museum', 'Visvesvaraya Industrial and Technological Museum', 'Jawaharlal Nehru Planetarium', 'Bannerghatta National Park', 'Butterfly Park',\n",
    "                    'Bangalore Aquarium', 'Wonder la Amusement Park', 'Innovative Film City', 'ISKCON Bangalore', 'Bull Temple', 'Art of Living International Center']"
   ]
  },
  {
   "cell_type": "code",
   "execution_count": 69,
   "metadata": {},
   "outputs": [
    {
     "data": {
      "text/html": [
       "<div>\n",
       "<style scoped>\n",
       "    .dataframe tbody tr th:only-of-type {\n",
       "        vertical-align: middle;\n",
       "    }\n",
       "\n",
       "    .dataframe tbody tr th {\n",
       "        vertical-align: top;\n",
       "    }\n",
       "\n",
       "    .dataframe thead th {\n",
       "        text-align: right;\n",
       "    }\n",
       "</style>\n",
       "<table border=\"1\" class=\"dataframe\">\n",
       "  <thead>\n",
       "    <tr style=\"text-align: right;\">\n",
       "      <th></th>\n",
       "      <th>index</th>\n",
       "      <th>Name</th>\n",
       "      <th>Category</th>\n",
       "      <th>Id</th>\n",
       "      <th>Latitude</th>\n",
       "      <th>Longtitude</th>\n",
       "    </tr>\n",
       "  </thead>\n",
       "  <tbody>\n",
       "    <tr>\n",
       "      <th>0</th>\n",
       "      <td>0</td>\n",
       "      <td>Government Museum</td>\n",
       "      <td>History Museum</td>\n",
       "      <td>4bf58dd8d48988d190941735</td>\n",
       "      <td>12.972280</td>\n",
       "      <td>77.604250</td>\n",
       "    </tr>\n",
       "    <tr>\n",
       "      <th>1</th>\n",
       "      <td>1</td>\n",
       "      <td>Visvesvaraya Industrial and Technological Museum</td>\n",
       "      <td>Science Museum</td>\n",
       "      <td>4bf58dd8d48988d191941735</td>\n",
       "      <td>12.974884</td>\n",
       "      <td>77.596526</td>\n",
       "    </tr>\n",
       "    <tr>\n",
       "      <th>2</th>\n",
       "      <td>2</td>\n",
       "      <td>Heritage Centre &amp; Aerospace Museum</td>\n",
       "      <td>History Museum</td>\n",
       "      <td>4bf58dd8d48988d190941735</td>\n",
       "      <td>12.954810</td>\n",
       "      <td>77.680989</td>\n",
       "    </tr>\n",
       "    <tr>\n",
       "      <th>3</th>\n",
       "      <td>3</td>\n",
       "      <td>Jawaharlal Nehru Planetarium</td>\n",
       "      <td>Planetarium</td>\n",
       "      <td>4bf58dd8d48988d192941735</td>\n",
       "      <td>12.984570</td>\n",
       "      <td>77.590163</td>\n",
       "    </tr>\n",
       "    <tr>\n",
       "      <th>4</th>\n",
       "      <td>5</td>\n",
       "      <td>Wonder la Amusement Park</td>\n",
       "      <td>Theme Park Ride / Attraction</td>\n",
       "      <td>5109983191d435c0d71c2bb1</td>\n",
       "      <td>12.834399</td>\n",
       "      <td>77.414302</td>\n",
       "    </tr>\n",
       "    <tr>\n",
       "      <th>5</th>\n",
       "      <td>6</td>\n",
       "      <td>Innovative Film City</td>\n",
       "      <td>Theme Park</td>\n",
       "      <td>4bf58dd8d48988d182941735</td>\n",
       "      <td>12.929113</td>\n",
       "      <td>77.518061</td>\n",
       "    </tr>\n",
       "    <tr>\n",
       "      <th>6</th>\n",
       "      <td>8</td>\n",
       "      <td>Bannerghatta National Park</td>\n",
       "      <td>Zoo</td>\n",
       "      <td>4bf58dd8d48988d17b941735</td>\n",
       "      <td>12.801465</td>\n",
       "      <td>77.576233</td>\n",
       "    </tr>\n",
       "    <tr>\n",
       "      <th>7</th>\n",
       "      <td>9</td>\n",
       "      <td>Lalbagh Botanical Garden</td>\n",
       "      <td>Botanical Garden</td>\n",
       "      <td>52e81612bcbc57f1066b7a22</td>\n",
       "      <td>12.948948</td>\n",
       "      <td>77.586951</td>\n",
       "    </tr>\n",
       "    <tr>\n",
       "      <th>8</th>\n",
       "      <td>11</td>\n",
       "      <td>Cubbon Park</td>\n",
       "      <td>Park</td>\n",
       "      <td>4bf58dd8d48988d163941735</td>\n",
       "      <td>12.977042</td>\n",
       "      <td>77.595277</td>\n",
       "    </tr>\n",
       "    <tr>\n",
       "      <th>9</th>\n",
       "      <td>12</td>\n",
       "      <td>Tipu's Summer Palace</td>\n",
       "      <td>Park</td>\n",
       "      <td>4bf58dd8d48988d163941735</td>\n",
       "      <td>12.959561</td>\n",
       "      <td>77.573744</td>\n",
       "    </tr>\n",
       "    <tr>\n",
       "      <th>10</th>\n",
       "      <td>13</td>\n",
       "      <td>Butterfly Park</td>\n",
       "      <td>Park</td>\n",
       "      <td>4bf58dd8d48988d163941735</td>\n",
       "      <td>12.800418</td>\n",
       "      <td>77.577001</td>\n",
       "    </tr>\n",
       "    <tr>\n",
       "      <th>11</th>\n",
       "      <td>14</td>\n",
       "      <td>Vidhana Soudha</td>\n",
       "      <td>Capitol Building</td>\n",
       "      <td>4bf58dd8d48988d12a941735</td>\n",
       "      <td>12.979027</td>\n",
       "      <td>77.591881</td>\n",
       "    </tr>\n",
       "    <tr>\n",
       "      <th>12</th>\n",
       "      <td>16</td>\n",
       "      <td>Bangalore Palace</td>\n",
       "      <td>Monument / Landmark</td>\n",
       "      <td>4bf58dd8d48988d12d941735</td>\n",
       "      <td>12.998188</td>\n",
       "      <td>77.591920</td>\n",
       "    </tr>\n",
       "    <tr>\n",
       "      <th>13</th>\n",
       "      <td>17</td>\n",
       "      <td>ISKCON Bangalore</td>\n",
       "      <td>Temple</td>\n",
       "      <td>4bf58dd8d48988d13a941735</td>\n",
       "      <td>13.010890</td>\n",
       "      <td>77.551490</td>\n",
       "    </tr>\n",
       "    <tr>\n",
       "      <th>14</th>\n",
       "      <td>18</td>\n",
       "      <td>Bull Temple</td>\n",
       "      <td>Temple</td>\n",
       "      <td>4bf58dd8d48988d13a941735</td>\n",
       "      <td>12.942764</td>\n",
       "      <td>77.567743</td>\n",
       "    </tr>\n",
       "  </tbody>\n",
       "</table>\n",
       "</div>"
      ],
      "text/plain": [
       "    index                                              Name  \\\n",
       "0       0                                 Government Museum   \n",
       "1       1  Visvesvaraya Industrial and Technological Museum   \n",
       "2       2                Heritage Centre & Aerospace Museum   \n",
       "3       3                      Jawaharlal Nehru Planetarium   \n",
       "4       5                          Wonder la Amusement Park   \n",
       "5       6                              Innovative Film City   \n",
       "6       8                        Bannerghatta National Park   \n",
       "7       9                          Lalbagh Botanical Garden   \n",
       "8      11                                       Cubbon Park   \n",
       "9      12                              Tipu's Summer Palace   \n",
       "10     13                                    Butterfly Park   \n",
       "11     14                                    Vidhana Soudha   \n",
       "12     16                                  Bangalore Palace   \n",
       "13     17                                  ISKCON Bangalore   \n",
       "14     18                                       Bull Temple   \n",
       "\n",
       "                        Category                        Id   Latitude  \\\n",
       "0                 History Museum  4bf58dd8d48988d190941735  12.972280   \n",
       "1                 Science Museum  4bf58dd8d48988d191941735  12.974884   \n",
       "2                 History Museum  4bf58dd8d48988d190941735  12.954810   \n",
       "3                    Planetarium  4bf58dd8d48988d192941735  12.984570   \n",
       "4   Theme Park Ride / Attraction  5109983191d435c0d71c2bb1  12.834399   \n",
       "5                     Theme Park  4bf58dd8d48988d182941735  12.929113   \n",
       "6                            Zoo  4bf58dd8d48988d17b941735  12.801465   \n",
       "7               Botanical Garden  52e81612bcbc57f1066b7a22  12.948948   \n",
       "8                           Park  4bf58dd8d48988d163941735  12.977042   \n",
       "9                           Park  4bf58dd8d48988d163941735  12.959561   \n",
       "10                          Park  4bf58dd8d48988d163941735  12.800418   \n",
       "11              Capitol Building  4bf58dd8d48988d12a941735  12.979027   \n",
       "12           Monument / Landmark  4bf58dd8d48988d12d941735  12.998188   \n",
       "13                        Temple  4bf58dd8d48988d13a941735  13.010890   \n",
       "14                        Temple  4bf58dd8d48988d13a941735  12.942764   \n",
       "\n",
       "    Longtitude  \n",
       "0    77.604250  \n",
       "1    77.596526  \n",
       "2    77.680989  \n",
       "3    77.590163  \n",
       "4    77.414302  \n",
       "5    77.518061  \n",
       "6    77.576233  \n",
       "7    77.586951  \n",
       "8    77.595277  \n",
       "9    77.573744  \n",
       "10   77.577001  \n",
       "11   77.591881  \n",
       "12   77.591920  \n",
       "13   77.551490  \n",
       "14   77.567743  "
      ]
     },
     "execution_count": 69,
     "metadata": {},
     "output_type": "execute_result"
    }
   ],
   "source": [
    "top_venues = pd.DataFrame(columns=['Name', 'Category', 'Id', 'Latitude', 'Longtitude'])\n",
    "for index, v in travel_venues.iterrows():\n",
    "    if v['Name'] in top_travel_venues:\n",
    "        top_venues = top_venues.append(v, ignore_index=True)\n",
    "top_venues.drop_duplicates('Name', keep='first', inplace=True)\n",
    "top_venues.reset_index(inplace=True)\n",
    "top_venues"
   ]
  },
  {
   "cell_type": "markdown",
   "metadata": {},
   "source": [
    "### Step 9: Form a new dataframe by dropping Id, Category, Rating and Likes columns."
   ]
  },
  {
   "cell_type": "code",
   "execution_count": 70,
   "metadata": {},
   "outputs": [
    {
     "data": {
      "text/html": [
       "<div>\n",
       "<style scoped>\n",
       "    .dataframe tbody tr th:only-of-type {\n",
       "        vertical-align: middle;\n",
       "    }\n",
       "\n",
       "    .dataframe tbody tr th {\n",
       "        vertical-align: top;\n",
       "    }\n",
       "\n",
       "    .dataframe thead th {\n",
       "        text-align: right;\n",
       "    }\n",
       "</style>\n",
       "<table border=\"1\" class=\"dataframe\">\n",
       "  <thead>\n",
       "    <tr style=\"text-align: right;\">\n",
       "      <th></th>\n",
       "      <th>Latitude</th>\n",
       "      <th>Longtitude</th>\n",
       "    </tr>\n",
       "  </thead>\n",
       "  <tbody>\n",
       "    <tr>\n",
       "      <th>0</th>\n",
       "      <td>12.972280</td>\n",
       "      <td>77.604250</td>\n",
       "    </tr>\n",
       "    <tr>\n",
       "      <th>1</th>\n",
       "      <td>12.974884</td>\n",
       "      <td>77.596526</td>\n",
       "    </tr>\n",
       "    <tr>\n",
       "      <th>2</th>\n",
       "      <td>12.954810</td>\n",
       "      <td>77.680989</td>\n",
       "    </tr>\n",
       "    <tr>\n",
       "      <th>3</th>\n",
       "      <td>12.984570</td>\n",
       "      <td>77.590163</td>\n",
       "    </tr>\n",
       "    <tr>\n",
       "      <th>4</th>\n",
       "      <td>12.834399</td>\n",
       "      <td>77.414302</td>\n",
       "    </tr>\n",
       "    <tr>\n",
       "      <th>5</th>\n",
       "      <td>12.929113</td>\n",
       "      <td>77.518061</td>\n",
       "    </tr>\n",
       "    <tr>\n",
       "      <th>6</th>\n",
       "      <td>12.801465</td>\n",
       "      <td>77.576233</td>\n",
       "    </tr>\n",
       "    <tr>\n",
       "      <th>7</th>\n",
       "      <td>12.948948</td>\n",
       "      <td>77.586951</td>\n",
       "    </tr>\n",
       "    <tr>\n",
       "      <th>8</th>\n",
       "      <td>12.977042</td>\n",
       "      <td>77.595277</td>\n",
       "    </tr>\n",
       "    <tr>\n",
       "      <th>9</th>\n",
       "      <td>12.959561</td>\n",
       "      <td>77.573744</td>\n",
       "    </tr>\n",
       "    <tr>\n",
       "      <th>10</th>\n",
       "      <td>12.800418</td>\n",
       "      <td>77.577001</td>\n",
       "    </tr>\n",
       "    <tr>\n",
       "      <th>11</th>\n",
       "      <td>12.979027</td>\n",
       "      <td>77.591881</td>\n",
       "    </tr>\n",
       "    <tr>\n",
       "      <th>12</th>\n",
       "      <td>12.998188</td>\n",
       "      <td>77.591920</td>\n",
       "    </tr>\n",
       "    <tr>\n",
       "      <th>13</th>\n",
       "      <td>13.010890</td>\n",
       "      <td>77.551490</td>\n",
       "    </tr>\n",
       "    <tr>\n",
       "      <th>14</th>\n",
       "      <td>12.942764</td>\n",
       "      <td>77.567743</td>\n",
       "    </tr>\n",
       "  </tbody>\n",
       "</table>\n",
       "</div>"
      ],
      "text/plain": [
       "     Latitude  Longtitude\n",
       "0   12.972280   77.604250\n",
       "1   12.974884   77.596526\n",
       "2   12.954810   77.680989\n",
       "3   12.984570   77.590163\n",
       "4   12.834399   77.414302\n",
       "5   12.929113   77.518061\n",
       "6   12.801465   77.576233\n",
       "7   12.948948   77.586951\n",
       "8   12.977042   77.595277\n",
       "9   12.959561   77.573744\n",
       "10  12.800418   77.577001\n",
       "11  12.979027   77.591881\n",
       "12  12.998188   77.591920\n",
       "13  13.010890   77.551490\n",
       "14  12.942764   77.567743"
      ]
     },
     "execution_count": 70,
     "metadata": {},
     "output_type": "execute_result"
    }
   ],
   "source": [
    "top_venues_clustering = top_venues.drop(['index', 'Name', 'Category', 'Id'], 1)\n",
    "top_venues_clustering"
   ]
  },
  {
   "cell_type": "markdown",
   "metadata": {},
   "source": [
    "### Step 10:  Use K-Means clustering to segment venues based on the Latitude and Longitude values"
   ]
  },
  {
   "cell_type": "code",
   "execution_count": 74,
   "metadata": {},
   "outputs": [
    {
     "data": {
      "text/plain": [
       "array([0, 0, 0, 0, 2, 0, 1, 0, 0, 0, 1, 0, 0, 0, 0], dtype=int32)"
      ]
     },
     "execution_count": 74,
     "metadata": {},
     "output_type": "execute_result"
    }
   ],
   "source": [
    "# set number of clusters\n",
    "kclusters = 3\n",
    "\n",
    "# run k-means clustering\n",
    "kmeans = KMeans(init = \"k-means++\", n_clusters=kclusters, n_init = 12).fit(top_venues_clustering)\n",
    "\n",
    "# check cluster labels generated for each row in the dataframe\n",
    "kmeans.labels_"
   ]
  },
  {
   "cell_type": "code",
   "execution_count": 76,
   "metadata": {},
   "outputs": [
    {
     "data": {
      "text/html": [
       "<div>\n",
       "<style scoped>\n",
       "    .dataframe tbody tr th:only-of-type {\n",
       "        vertical-align: middle;\n",
       "    }\n",
       "\n",
       "    .dataframe tbody tr th {\n",
       "        vertical-align: top;\n",
       "    }\n",
       "\n",
       "    .dataframe thead th {\n",
       "        text-align: right;\n",
       "    }\n",
       "</style>\n",
       "<table border=\"1\" class=\"dataframe\">\n",
       "  <thead>\n",
       "    <tr style=\"text-align: right;\">\n",
       "      <th></th>\n",
       "      <th>Name</th>\n",
       "      <th>Category</th>\n",
       "      <th>Latitude</th>\n",
       "      <th>Longtitude</th>\n",
       "      <th>Cluster Labels</th>\n",
       "    </tr>\n",
       "  </thead>\n",
       "  <tbody>\n",
       "    <tr>\n",
       "      <th>0</th>\n",
       "      <td>Government Museum</td>\n",
       "      <td>History Museum</td>\n",
       "      <td>12.972280</td>\n",
       "      <td>77.604250</td>\n",
       "      <td>0</td>\n",
       "    </tr>\n",
       "    <tr>\n",
       "      <th>1</th>\n",
       "      <td>Visvesvaraya Industrial and Technological Museum</td>\n",
       "      <td>Science Museum</td>\n",
       "      <td>12.974884</td>\n",
       "      <td>77.596526</td>\n",
       "      <td>0</td>\n",
       "    </tr>\n",
       "    <tr>\n",
       "      <th>2</th>\n",
       "      <td>Heritage Centre &amp; Aerospace Museum</td>\n",
       "      <td>History Museum</td>\n",
       "      <td>12.954810</td>\n",
       "      <td>77.680989</td>\n",
       "      <td>0</td>\n",
       "    </tr>\n",
       "    <tr>\n",
       "      <th>3</th>\n",
       "      <td>Jawaharlal Nehru Planetarium</td>\n",
       "      <td>Planetarium</td>\n",
       "      <td>12.984570</td>\n",
       "      <td>77.590163</td>\n",
       "      <td>0</td>\n",
       "    </tr>\n",
       "    <tr>\n",
       "      <th>4</th>\n",
       "      <td>Wonder la Amusement Park</td>\n",
       "      <td>Theme Park Ride / Attraction</td>\n",
       "      <td>12.834399</td>\n",
       "      <td>77.414302</td>\n",
       "      <td>2</td>\n",
       "    </tr>\n",
       "    <tr>\n",
       "      <th>5</th>\n",
       "      <td>Innovative Film City</td>\n",
       "      <td>Theme Park</td>\n",
       "      <td>12.929113</td>\n",
       "      <td>77.518061</td>\n",
       "      <td>0</td>\n",
       "    </tr>\n",
       "    <tr>\n",
       "      <th>6</th>\n",
       "      <td>Bannerghatta National Park</td>\n",
       "      <td>Zoo</td>\n",
       "      <td>12.801465</td>\n",
       "      <td>77.576233</td>\n",
       "      <td>1</td>\n",
       "    </tr>\n",
       "    <tr>\n",
       "      <th>7</th>\n",
       "      <td>Lalbagh Botanical Garden</td>\n",
       "      <td>Botanical Garden</td>\n",
       "      <td>12.948948</td>\n",
       "      <td>77.586951</td>\n",
       "      <td>0</td>\n",
       "    </tr>\n",
       "    <tr>\n",
       "      <th>8</th>\n",
       "      <td>Cubbon Park</td>\n",
       "      <td>Park</td>\n",
       "      <td>12.977042</td>\n",
       "      <td>77.595277</td>\n",
       "      <td>0</td>\n",
       "    </tr>\n",
       "    <tr>\n",
       "      <th>9</th>\n",
       "      <td>Tipu's Summer Palace</td>\n",
       "      <td>Park</td>\n",
       "      <td>12.959561</td>\n",
       "      <td>77.573744</td>\n",
       "      <td>0</td>\n",
       "    </tr>\n",
       "    <tr>\n",
       "      <th>10</th>\n",
       "      <td>Butterfly Park</td>\n",
       "      <td>Park</td>\n",
       "      <td>12.800418</td>\n",
       "      <td>77.577001</td>\n",
       "      <td>1</td>\n",
       "    </tr>\n",
       "    <tr>\n",
       "      <th>11</th>\n",
       "      <td>Vidhana Soudha</td>\n",
       "      <td>Capitol Building</td>\n",
       "      <td>12.979027</td>\n",
       "      <td>77.591881</td>\n",
       "      <td>0</td>\n",
       "    </tr>\n",
       "    <tr>\n",
       "      <th>12</th>\n",
       "      <td>Bangalore Palace</td>\n",
       "      <td>Monument / Landmark</td>\n",
       "      <td>12.998188</td>\n",
       "      <td>77.591920</td>\n",
       "      <td>0</td>\n",
       "    </tr>\n",
       "    <tr>\n",
       "      <th>13</th>\n",
       "      <td>ISKCON Bangalore</td>\n",
       "      <td>Temple</td>\n",
       "      <td>13.010890</td>\n",
       "      <td>77.551490</td>\n",
       "      <td>0</td>\n",
       "    </tr>\n",
       "    <tr>\n",
       "      <th>14</th>\n",
       "      <td>Bull Temple</td>\n",
       "      <td>Temple</td>\n",
       "      <td>12.942764</td>\n",
       "      <td>77.567743</td>\n",
       "      <td>0</td>\n",
       "    </tr>\n",
       "  </tbody>\n",
       "</table>\n",
       "</div>"
      ],
      "text/plain": [
       "                                                Name  \\\n",
       "0                                  Government Museum   \n",
       "1   Visvesvaraya Industrial and Technological Museum   \n",
       "2                 Heritage Centre & Aerospace Museum   \n",
       "3                       Jawaharlal Nehru Planetarium   \n",
       "4                           Wonder la Amusement Park   \n",
       "5                               Innovative Film City   \n",
       "6                         Bannerghatta National Park   \n",
       "7                           Lalbagh Botanical Garden   \n",
       "8                                        Cubbon Park   \n",
       "9                               Tipu's Summer Palace   \n",
       "10                                    Butterfly Park   \n",
       "11                                    Vidhana Soudha   \n",
       "12                                  Bangalore Palace   \n",
       "13                                  ISKCON Bangalore   \n",
       "14                                       Bull Temple   \n",
       "\n",
       "                        Category   Latitude  Longtitude  Cluster Labels  \n",
       "0                 History Museum  12.972280   77.604250               0  \n",
       "1                 Science Museum  12.974884   77.596526               0  \n",
       "2                 History Museum  12.954810   77.680989               0  \n",
       "3                    Planetarium  12.984570   77.590163               0  \n",
       "4   Theme Park Ride / Attraction  12.834399   77.414302               2  \n",
       "5                     Theme Park  12.929113   77.518061               0  \n",
       "6                            Zoo  12.801465   77.576233               1  \n",
       "7               Botanical Garden  12.948948   77.586951               0  \n",
       "8                           Park  12.977042   77.595277               0  \n",
       "9                           Park  12.959561   77.573744               0  \n",
       "10                          Park  12.800418   77.577001               1  \n",
       "11              Capitol Building  12.979027   77.591881               0  \n",
       "12           Monument / Landmark  12.998188   77.591920               0  \n",
       "13                        Temple  13.010890   77.551490               0  \n",
       "14                        Temple  12.942764   77.567743               0  "
      ]
     },
     "execution_count": 76,
     "metadata": {},
     "output_type": "execute_result"
    }
   ],
   "source": [
    "venues_grouped = top_venues.drop(['index', 'Id'], axis=1)\n",
    "\n",
    "# add clustering labels\n",
    "venues_grouped['Cluster Labels'] = kmeans.labels_\n",
    "venues_grouped "
   ]
  },
  {
   "cell_type": "markdown",
   "metadata": {},
   "source": [
    "### Step 11:  Display the list of venues (Itinerary for each day) "
   ]
  },
  {
   "cell_type": "markdown",
   "metadata": {},
   "source": [
    "#### Day1 itinerary"
   ]
  },
  {
   "cell_type": "code",
   "execution_count": 77,
   "metadata": {},
   "outputs": [
    {
     "data": {
      "text/html": [
       "<div>\n",
       "<style scoped>\n",
       "    .dataframe tbody tr th:only-of-type {\n",
       "        vertical-align: middle;\n",
       "    }\n",
       "\n",
       "    .dataframe tbody tr th {\n",
       "        vertical-align: top;\n",
       "    }\n",
       "\n",
       "    .dataframe thead th {\n",
       "        text-align: right;\n",
       "    }\n",
       "</style>\n",
       "<table border=\"1\" class=\"dataframe\">\n",
       "  <thead>\n",
       "    <tr style=\"text-align: right;\">\n",
       "      <th></th>\n",
       "      <th>Name</th>\n",
       "      <th>Category</th>\n",
       "    </tr>\n",
       "  </thead>\n",
       "  <tbody>\n",
       "    <tr>\n",
       "      <th>0</th>\n",
       "      <td>Government Museum</td>\n",
       "      <td>History Museum</td>\n",
       "    </tr>\n",
       "    <tr>\n",
       "      <th>1</th>\n",
       "      <td>Visvesvaraya Industrial and Technological Museum</td>\n",
       "      <td>Science Museum</td>\n",
       "    </tr>\n",
       "    <tr>\n",
       "      <th>2</th>\n",
       "      <td>Heritage Centre &amp; Aerospace Museum</td>\n",
       "      <td>History Museum</td>\n",
       "    </tr>\n",
       "    <tr>\n",
       "      <th>3</th>\n",
       "      <td>Jawaharlal Nehru Planetarium</td>\n",
       "      <td>Planetarium</td>\n",
       "    </tr>\n",
       "    <tr>\n",
       "      <th>5</th>\n",
       "      <td>Innovative Film City</td>\n",
       "      <td>Theme Park</td>\n",
       "    </tr>\n",
       "    <tr>\n",
       "      <th>7</th>\n",
       "      <td>Lalbagh Botanical Garden</td>\n",
       "      <td>Botanical Garden</td>\n",
       "    </tr>\n",
       "    <tr>\n",
       "      <th>8</th>\n",
       "      <td>Cubbon Park</td>\n",
       "      <td>Park</td>\n",
       "    </tr>\n",
       "    <tr>\n",
       "      <th>9</th>\n",
       "      <td>Tipu's Summer Palace</td>\n",
       "      <td>Park</td>\n",
       "    </tr>\n",
       "    <tr>\n",
       "      <th>11</th>\n",
       "      <td>Vidhana Soudha</td>\n",
       "      <td>Capitol Building</td>\n",
       "    </tr>\n",
       "    <tr>\n",
       "      <th>12</th>\n",
       "      <td>Bangalore Palace</td>\n",
       "      <td>Monument / Landmark</td>\n",
       "    </tr>\n",
       "    <tr>\n",
       "      <th>13</th>\n",
       "      <td>ISKCON Bangalore</td>\n",
       "      <td>Temple</td>\n",
       "    </tr>\n",
       "    <tr>\n",
       "      <th>14</th>\n",
       "      <td>Bull Temple</td>\n",
       "      <td>Temple</td>\n",
       "    </tr>\n",
       "  </tbody>\n",
       "</table>\n",
       "</div>"
      ],
      "text/plain": [
       "                                                Name             Category\n",
       "0                                  Government Museum       History Museum\n",
       "1   Visvesvaraya Industrial and Technological Museum       Science Museum\n",
       "2                 Heritage Centre & Aerospace Museum       History Museum\n",
       "3                       Jawaharlal Nehru Planetarium          Planetarium\n",
       "5                               Innovative Film City           Theme Park\n",
       "7                           Lalbagh Botanical Garden     Botanical Garden\n",
       "8                                        Cubbon Park                 Park\n",
       "9                               Tipu's Summer Palace                 Park\n",
       "11                                    Vidhana Soudha     Capitol Building\n",
       "12                                  Bangalore Palace  Monument / Landmark\n",
       "13                                  ISKCON Bangalore               Temple\n",
       "14                                       Bull Temple               Temple"
      ]
     },
     "execution_count": 77,
     "metadata": {},
     "output_type": "execute_result"
    }
   ],
   "source": [
    "venues_grouped.loc[venues_grouped['Cluster Labels'] == 0, ['Name', 'Category']]"
   ]
  },
  {
   "cell_type": "markdown",
   "metadata": {},
   "source": [
    "#### Day2 itinerary"
   ]
  },
  {
   "cell_type": "code",
   "execution_count": 78,
   "metadata": {},
   "outputs": [
    {
     "data": {
      "text/html": [
       "<div>\n",
       "<style scoped>\n",
       "    .dataframe tbody tr th:only-of-type {\n",
       "        vertical-align: middle;\n",
       "    }\n",
       "\n",
       "    .dataframe tbody tr th {\n",
       "        vertical-align: top;\n",
       "    }\n",
       "\n",
       "    .dataframe thead th {\n",
       "        text-align: right;\n",
       "    }\n",
       "</style>\n",
       "<table border=\"1\" class=\"dataframe\">\n",
       "  <thead>\n",
       "    <tr style=\"text-align: right;\">\n",
       "      <th></th>\n",
       "      <th>Name</th>\n",
       "      <th>Category</th>\n",
       "    </tr>\n",
       "  </thead>\n",
       "  <tbody>\n",
       "    <tr>\n",
       "      <th>6</th>\n",
       "      <td>Bannerghatta National Park</td>\n",
       "      <td>Zoo</td>\n",
       "    </tr>\n",
       "    <tr>\n",
       "      <th>10</th>\n",
       "      <td>Butterfly Park</td>\n",
       "      <td>Park</td>\n",
       "    </tr>\n",
       "  </tbody>\n",
       "</table>\n",
       "</div>"
      ],
      "text/plain": [
       "                          Name Category\n",
       "6   Bannerghatta National Park      Zoo\n",
       "10              Butterfly Park     Park"
      ]
     },
     "execution_count": 78,
     "metadata": {},
     "output_type": "execute_result"
    }
   ],
   "source": [
    "venues_grouped.loc[venues_grouped['Cluster Labels'] == 1, ['Name', 'Category']]"
   ]
  },
  {
   "cell_type": "markdown",
   "metadata": {},
   "source": [
    "#### Day3 itinerary"
   ]
  },
  {
   "cell_type": "code",
   "execution_count": 79,
   "metadata": {},
   "outputs": [
    {
     "data": {
      "text/html": [
       "<div>\n",
       "<style scoped>\n",
       "    .dataframe tbody tr th:only-of-type {\n",
       "        vertical-align: middle;\n",
       "    }\n",
       "\n",
       "    .dataframe tbody tr th {\n",
       "        vertical-align: top;\n",
       "    }\n",
       "\n",
       "    .dataframe thead th {\n",
       "        text-align: right;\n",
       "    }\n",
       "</style>\n",
       "<table border=\"1\" class=\"dataframe\">\n",
       "  <thead>\n",
       "    <tr style=\"text-align: right;\">\n",
       "      <th></th>\n",
       "      <th>Name</th>\n",
       "      <th>Category</th>\n",
       "    </tr>\n",
       "  </thead>\n",
       "  <tbody>\n",
       "    <tr>\n",
       "      <th>4</th>\n",
       "      <td>Wonder la Amusement Park</td>\n",
       "      <td>Theme Park Ride / Attraction</td>\n",
       "    </tr>\n",
       "  </tbody>\n",
       "</table>\n",
       "</div>"
      ],
      "text/plain": [
       "                       Name                      Category\n",
       "4  Wonder la Amusement Park  Theme Park Ride / Attraction"
      ]
     },
     "execution_count": 79,
     "metadata": {},
     "output_type": "execute_result"
    }
   ],
   "source": [
    "venues_grouped.loc[venues_grouped['Cluster Labels'] == 2, ['Name', 'Category']]"
   ]
  },
  {
   "cell_type": "markdown",
   "metadata": {},
   "source": [
    "### Step 12: Use Folium to visualize the travel venues on the City map. \n",
    "#### (Day1 = Red , Day2 = Purple, Day3 = Green)"
   ]
  },
  {
   "cell_type": "code",
   "execution_count": 57,
   "metadata": {},
   "outputs": [
    {
     "data": {
      "text/html": [
       "<div style=\"width:100%;\"><div style=\"position:relative;width:100%;height:0;padding-bottom:60%;\"><iframe src=\"data:text/html;charset=utf-8;base64,PCFET0NUWVBFIGh0bWw+CjxoZWFkPiAgICAKICAgIDxtZXRhIGh0dHAtZXF1aXY9ImNvbnRlbnQtdHlwZSIgY29udGVudD0idGV4dC9odG1sOyBjaGFyc2V0PVVURi04IiAvPgogICAgPHNjcmlwdD5MX1BSRUZFUl9DQU5WQVMgPSBmYWxzZTsgTF9OT19UT1VDSCA9IGZhbHNlOyBMX0RJU0FCTEVfM0QgPSBmYWxzZTs8L3NjcmlwdD4KICAgIDxzY3JpcHQgc3JjPSJodHRwczovL2Nkbi5qc2RlbGl2ci5uZXQvbnBtL2xlYWZsZXRAMS4yLjAvZGlzdC9sZWFmbGV0LmpzIj48L3NjcmlwdD4KICAgIDxzY3JpcHQgc3JjPSJodHRwczovL2FqYXguZ29vZ2xlYXBpcy5jb20vYWpheC9saWJzL2pxdWVyeS8xLjExLjEvanF1ZXJ5Lm1pbi5qcyI+PC9zY3JpcHQ+CiAgICA8c2NyaXB0IHNyYz0iaHR0cHM6Ly9tYXhjZG4uYm9vdHN0cmFwY2RuLmNvbS9ib290c3RyYXAvMy4yLjAvanMvYm9vdHN0cmFwLm1pbi5qcyI+PC9zY3JpcHQ+CiAgICA8c2NyaXB0IHNyYz0iaHR0cHM6Ly9jZG5qcy5jbG91ZGZsYXJlLmNvbS9hamF4L2xpYnMvTGVhZmxldC5hd2Vzb21lLW1hcmtlcnMvMi4wLjIvbGVhZmxldC5hd2Vzb21lLW1hcmtlcnMuanMiPjwvc2NyaXB0PgogICAgPGxpbmsgcmVsPSJzdHlsZXNoZWV0IiBocmVmPSJodHRwczovL2Nkbi5qc2RlbGl2ci5uZXQvbnBtL2xlYWZsZXRAMS4yLjAvZGlzdC9sZWFmbGV0LmNzcyIvPgogICAgPGxpbmsgcmVsPSJzdHlsZXNoZWV0IiBocmVmPSJodHRwczovL21heGNkbi5ib290c3RyYXBjZG4uY29tL2Jvb3RzdHJhcC8zLjIuMC9jc3MvYm9vdHN0cmFwLm1pbi5jc3MiLz4KICAgIDxsaW5rIHJlbD0ic3R5bGVzaGVldCIgaHJlZj0iaHR0cHM6Ly9tYXhjZG4uYm9vdHN0cmFwY2RuLmNvbS9ib290c3RyYXAvMy4yLjAvY3NzL2Jvb3RzdHJhcC10aGVtZS5taW4uY3NzIi8+CiAgICA8bGluayByZWw9InN0eWxlc2hlZXQiIGhyZWY9Imh0dHBzOi8vbWF4Y2RuLmJvb3RzdHJhcGNkbi5jb20vZm9udC1hd2Vzb21lLzQuNi4zL2Nzcy9mb250LWF3ZXNvbWUubWluLmNzcyIvPgogICAgPGxpbmsgcmVsPSJzdHlsZXNoZWV0IiBocmVmPSJodHRwczovL2NkbmpzLmNsb3VkZmxhcmUuY29tL2FqYXgvbGlicy9MZWFmbGV0LmF3ZXNvbWUtbWFya2Vycy8yLjAuMi9sZWFmbGV0LmF3ZXNvbWUtbWFya2Vycy5jc3MiLz4KICAgIDxsaW5rIHJlbD0ic3R5bGVzaGVldCIgaHJlZj0iaHR0cHM6Ly9yYXdnaXQuY29tL3B5dGhvbi12aXN1YWxpemF0aW9uL2ZvbGl1bS9tYXN0ZXIvZm9saXVtL3RlbXBsYXRlcy9sZWFmbGV0LmF3ZXNvbWUucm90YXRlLmNzcyIvPgogICAgPHN0eWxlPmh0bWwsIGJvZHkge3dpZHRoOiAxMDAlO2hlaWdodDogMTAwJTttYXJnaW46IDA7cGFkZGluZzogMDt9PC9zdHlsZT4KICAgIDxzdHlsZT4jbWFwIHtwb3NpdGlvbjphYnNvbHV0ZTt0b3A6MDtib3R0b206MDtyaWdodDowO2xlZnQ6MDt9PC9zdHlsZT4KICAgIAogICAgICAgICAgICA8c3R5bGU+ICNtYXBfNmVmNWQ5NGE3YzhmNGZkNzgwZDM5ZWEwODNjYmFlZWIgewogICAgICAgICAgICAgICAgcG9zaXRpb24gOiByZWxhdGl2ZTsKICAgICAgICAgICAgICAgIHdpZHRoIDogMTAwLjAlOwogICAgICAgICAgICAgICAgaGVpZ2h0OiAxMDAuMCU7CiAgICAgICAgICAgICAgICBsZWZ0OiAwLjAlOwogICAgICAgICAgICAgICAgdG9wOiAwLjAlOwogICAgICAgICAgICAgICAgfQogICAgICAgICAgICA8L3N0eWxlPgogICAgICAgIAo8L2hlYWQ+Cjxib2R5PiAgICAKICAgIAogICAgICAgICAgICA8ZGl2IGNsYXNzPSJmb2xpdW0tbWFwIiBpZD0ibWFwXzZlZjVkOTRhN2M4ZjRmZDc4MGQzOWVhMDgzY2JhZWViIiA+PC9kaXY+CiAgICAgICAgCjwvYm9keT4KPHNjcmlwdD4gICAgCiAgICAKCiAgICAgICAgICAgIAogICAgICAgICAgICAgICAgdmFyIGJvdW5kcyA9IG51bGw7CiAgICAgICAgICAgIAoKICAgICAgICAgICAgdmFyIG1hcF82ZWY1ZDk0YTdjOGY0ZmQ3ODBkMzllYTA4M2NiYWVlYiA9IEwubWFwKAogICAgICAgICAgICAgICAgICAgICAgICAgICAgICAgICAgJ21hcF82ZWY1ZDk0YTdjOGY0ZmQ3ODBkMzllYTA4M2NiYWVlYicsCiAgICAgICAgICAgICAgICAgICAgICAgICAgICAgICAgICB7Y2VudGVyOiBbMTIuOTc5MTE5OCw3Ny41OTEyOTk3XSwKICAgICAgICAgICAgICAgICAgICAgICAgICAgICAgICAgIHpvb206IDExLAogICAgICAgICAgICAgICAgICAgICAgICAgICAgICAgICAgbWF4Qm91bmRzOiBib3VuZHMsCiAgICAgICAgICAgICAgICAgICAgICAgICAgICAgICAgICBsYXllcnM6IFtdLAogICAgICAgICAgICAgICAgICAgICAgICAgICAgICAgICAgd29ybGRDb3B5SnVtcDogZmFsc2UsCiAgICAgICAgICAgICAgICAgICAgICAgICAgICAgICAgICBjcnM6IEwuQ1JTLkVQU0czODU3CiAgICAgICAgICAgICAgICAgICAgICAgICAgICAgICAgIH0pOwogICAgICAgICAgICAKICAgICAgICAKICAgIAogICAgICAgICAgICB2YXIgdGlsZV9sYXllcl9iY2ZkNGI3NDQwNWQ0YzE5YjI0MjE1MGY4ZWZmNmNjYiA9IEwudGlsZUxheWVyKAogICAgICAgICAgICAgICAgJ2h0dHBzOi8ve3N9LnRpbGUub3BlbnN0cmVldG1hcC5vcmcve3p9L3t4fS97eX0ucG5nJywKICAgICAgICAgICAgICAgIHsKICAiYXR0cmlidXRpb24iOiBudWxsLAogICJkZXRlY3RSZXRpbmEiOiBmYWxzZSwKICAibWF4Wm9vbSI6IDE4LAogICJtaW5ab29tIjogMSwKICAibm9XcmFwIjogZmFsc2UsCiAgInN1YmRvbWFpbnMiOiAiYWJjIgp9CiAgICAgICAgICAgICAgICApLmFkZFRvKG1hcF82ZWY1ZDk0YTdjOGY0ZmQ3ODBkMzllYTA4M2NiYWVlYik7CiAgICAgICAgCiAgICAKICAgICAgICAgICAgdmFyIGNpcmNsZV9tYXJrZXJfNTZmMzhmZGZjZjQ0NGJkMWFiZjc5NjVmYzdiMTYxZGMgPSBMLmNpcmNsZU1hcmtlcigKICAgICAgICAgICAgICAgIFsxMi45ODQ1NzAwNDQwODQ1NzcsNzcuNTkwMTYzMjcxNDg4ODNdLAogICAgICAgICAgICAgICAgewogICJidWJibGluZ01vdXNlRXZlbnRzIjogdHJ1ZSwKICAiY29sb3IiOiAiI2ZmMDAwMCIsCiAgImRhc2hBcnJheSI6IG51bGwsCiAgImRhc2hPZmZzZXQiOiBudWxsLAogICJmaWxsIjogdHJ1ZSwKICAiZmlsbENvbG9yIjogIiNmZjAwMDAiLAogICJmaWxsT3BhY2l0eSI6IDAuNywKICAiZmlsbFJ1bGUiOiAiZXZlbm9kZCIsCiAgImxpbmVDYXAiOiAicm91bmQiLAogICJsaW5lSm9pbiI6ICJyb3VuZCIsCiAgIm9wYWNpdHkiOiAxLjAsCiAgInJhZGl1cyI6IDUsCiAgInN0cm9rZSI6IHRydWUsCiAgIndlaWdodCI6IDMKfQogICAgICAgICAgICAgICAgKS5hZGRUbyhtYXBfNmVmNWQ5NGE3YzhmNGZkNzgwZDM5ZWEwODNjYmFlZWIpOwogICAgICAgICAgICAKICAgIAogICAgICAgICAgICB2YXIgcG9wdXBfNWIxMWRlYjFjZTBjNDliZDhkM2Q5ZjI0ZGVkZTU5OGUgPSBMLnBvcHVwKHttYXhXaWR0aDogJzMwMCd9KTsKCiAgICAgICAgICAgIAogICAgICAgICAgICAgICAgdmFyIGh0bWxfMDk3Y2JhZmNlZjRmNDFmMDgxMTkxOGNhZWM0MTdiYzggPSAkKCc8ZGl2IGlkPSJodG1sXzA5N2NiYWZjZWY0ZjQxZjA4MTE5MThjYWVjNDE3YmM4IiBzdHlsZT0id2lkdGg6IDEwMC4wJTsgaGVpZ2h0OiAxMDAuMCU7Ij5KYXdhaGFybGFsIE5laHJ1IFBsYW5ldGFyaXVtIENsdXN0ZXIgMDwvZGl2PicpWzBdOwogICAgICAgICAgICAgICAgcG9wdXBfNWIxMWRlYjFjZTBjNDliZDhkM2Q5ZjI0ZGVkZTU5OGUuc2V0Q29udGVudChodG1sXzA5N2NiYWZjZWY0ZjQxZjA4MTE5MThjYWVjNDE3YmM4KTsKICAgICAgICAgICAgCgogICAgICAgICAgICBjaXJjbGVfbWFya2VyXzU2ZjM4ZmRmY2Y0NDRiZDFhYmY3OTY1ZmM3YjE2MWRjLmJpbmRQb3B1cChwb3B1cF81YjExZGViMWNlMGM0OWJkOGQzZDlmMjRkZWRlNTk4ZSk7CgogICAgICAgICAgICAKICAgICAgICAKICAgIAogICAgICAgICAgICB2YXIgY2lyY2xlX21hcmtlcl8zZDBhNWZiYjU4ODA0MDliYTUwOGNkY2ZjOTBmNDgzYyA9IEwuY2lyY2xlTWFya2VyKAogICAgICAgICAgICAgICAgWzEyLjk3NDg4Mzk4MDkxNTUzMiw3Ny41OTY1MjU3NDU2ODc1NF0sCiAgICAgICAgICAgICAgICB7CiAgImJ1YmJsaW5nTW91c2VFdmVudHMiOiB0cnVlLAogICJjb2xvciI6ICIjZmYwMDAwIiwKICAiZGFzaEFycmF5IjogbnVsbCwKICAiZGFzaE9mZnNldCI6IG51bGwsCiAgImZpbGwiOiB0cnVlLAogICJmaWxsQ29sb3IiOiAiI2ZmMDAwMCIsCiAgImZpbGxPcGFjaXR5IjogMC43LAogICJmaWxsUnVsZSI6ICJldmVub2RkIiwKICAibGluZUNhcCI6ICJyb3VuZCIsCiAgImxpbmVKb2luIjogInJvdW5kIiwKICAib3BhY2l0eSI6IDEuMCwKICAicmFkaXVzIjogNSwKICAic3Ryb2tlIjogdHJ1ZSwKICAid2VpZ2h0IjogMwp9CiAgICAgICAgICAgICAgICApLmFkZFRvKG1hcF82ZWY1ZDk0YTdjOGY0ZmQ3ODBkMzllYTA4M2NiYWVlYik7CiAgICAgICAgICAgIAogICAgCiAgICAgICAgICAgIHZhciBwb3B1cF8zZGRjMDllMzNjMDM0NjE1YWNjZDMzZTZjNTNhNzEwOCA9IEwucG9wdXAoe21heFdpZHRoOiAnMzAwJ30pOwoKICAgICAgICAgICAgCiAgICAgICAgICAgICAgICB2YXIgaHRtbF9hN2Y0YTU0YjE0ODg0ZDUzODc5ZDQzYWM4ZjY4YzM2NCA9ICQoJzxkaXYgaWQ9Imh0bWxfYTdmNGE1NGIxNDg4NGQ1Mzg3OWQ0M2FjOGY2OGMzNjQiIHN0eWxlPSJ3aWR0aDogMTAwLjAlOyBoZWlnaHQ6IDEwMC4wJTsiPlZpc3Zlc3ZhcmF5YSBJbmR1c3RyaWFsIGFuZCBUZWNobm9sb2dpY2FsIE11c2V1bSBDbHVzdGVyIDA8L2Rpdj4nKVswXTsKICAgICAgICAgICAgICAgIHBvcHVwXzNkZGMwOWUzM2MwMzQ2MTVhY2NkMzNlNmM1M2E3MTA4LnNldENvbnRlbnQoaHRtbF9hN2Y0YTU0YjE0ODg0ZDUzODc5ZDQzYWM4ZjY4YzM2NCk7CiAgICAgICAgICAgIAoKICAgICAgICAgICAgY2lyY2xlX21hcmtlcl8zZDBhNWZiYjU4ODA0MDliYTUwOGNkY2ZjOTBmNDgzYy5iaW5kUG9wdXAocG9wdXBfM2RkYzA5ZTMzYzAzNDYxNWFjY2QzM2U2YzUzYTcxMDgpOwoKICAgICAgICAgICAgCiAgICAgICAgCiAgICAKICAgICAgICAgICAgdmFyIGNpcmNsZV9tYXJrZXJfN2FkN2FkNWI1NjllNDk1ZGFlOTIyMTM3NjRhMGQ4ZmYgPSBMLmNpcmNsZU1hcmtlcigKICAgICAgICAgICAgICAgIFsxMi45NzIyOCw3Ny42MDQyNV0sCiAgICAgICAgICAgICAgICB7CiAgImJ1YmJsaW5nTW91c2VFdmVudHMiOiB0cnVlLAogICJjb2xvciI6ICIjZmYwMDAwIiwKICAiZGFzaEFycmF5IjogbnVsbCwKICAiZGFzaE9mZnNldCI6IG51bGwsCiAgImZpbGwiOiB0cnVlLAogICJmaWxsQ29sb3IiOiAiI2ZmMDAwMCIsCiAgImZpbGxPcGFjaXR5IjogMC43LAogICJmaWxsUnVsZSI6ICJldmVub2RkIiwKICAibGluZUNhcCI6ICJyb3VuZCIsCiAgImxpbmVKb2luIjogInJvdW5kIiwKICAib3BhY2l0eSI6IDEuMCwKICAicmFkaXVzIjogNSwKICAic3Ryb2tlIjogdHJ1ZSwKICAid2VpZ2h0IjogMwp9CiAgICAgICAgICAgICAgICApLmFkZFRvKG1hcF82ZWY1ZDk0YTdjOGY0ZmQ3ODBkMzllYTA4M2NiYWVlYik7CiAgICAgICAgICAgIAogICAgCiAgICAgICAgICAgIHZhciBwb3B1cF85MTQ0YmY0NjBkMjQ0MTkxODFjOTU4ZjdjYzgzNzY4ZCA9IEwucG9wdXAoe21heFdpZHRoOiAnMzAwJ30pOwoKICAgICAgICAgICAgCiAgICAgICAgICAgICAgICB2YXIgaHRtbF80MjM2YjBjZjAxMzI0ZWRmYThjYzk5ZDk5ZDYyMzUyNyA9ICQoJzxkaXYgaWQ9Imh0bWxfNDIzNmIwY2YwMTMyNGVkZmE4Y2M5OWQ5OWQ2MjM1MjciIHN0eWxlPSJ3aWR0aDogMTAwLjAlOyBoZWlnaHQ6IDEwMC4wJTsiPkdvdmVybm1lbnQgTXVzZXVtIENsdXN0ZXIgMDwvZGl2PicpWzBdOwogICAgICAgICAgICAgICAgcG9wdXBfOTE0NGJmNDYwZDI0NDE5MTgxYzk1OGY3Y2M4Mzc2OGQuc2V0Q29udGVudChodG1sXzQyMzZiMGNmMDEzMjRlZGZhOGNjOTlkOTlkNjIzNTI3KTsKICAgICAgICAgICAgCgogICAgICAgICAgICBjaXJjbGVfbWFya2VyXzdhZDdhZDViNTY5ZTQ5NWRhZTkyMjEzNzY0YTBkOGZmLmJpbmRQb3B1cChwb3B1cF85MTQ0YmY0NjBkMjQ0MTkxODFjOTU4ZjdjYzgzNzY4ZCk7CgogICAgICAgICAgICAKICAgICAgICAKICAgIAogICAgICAgICAgICB2YXIgY2lyY2xlX21hcmtlcl84ZDE1N2E4ODIwMzM0NGM0YTdlZjc1ZDBlMTZlZDY4MCA9IEwuY2lyY2xlTWFya2VyKAogICAgICAgICAgICAgICAgWzEyLjk1NDgwOTgxNzg5NzczNCw3Ny42ODA5ODg4ODg4NTI3XSwKICAgICAgICAgICAgICAgIHsKICAiYnViYmxpbmdNb3VzZUV2ZW50cyI6IHRydWUsCiAgImNvbG9yIjogIiNmZjAwMDAiLAogICJkYXNoQXJyYXkiOiBudWxsLAogICJkYXNoT2Zmc2V0IjogbnVsbCwKICAiZmlsbCI6IHRydWUsCiAgImZpbGxDb2xvciI6ICIjZmYwMDAwIiwKICAiZmlsbE9wYWNpdHkiOiAwLjcsCiAgImZpbGxSdWxlIjogImV2ZW5vZGQiLAogICJsaW5lQ2FwIjogInJvdW5kIiwKICAibGluZUpvaW4iOiAicm91bmQiLAogICJvcGFjaXR5IjogMS4wLAogICJyYWRpdXMiOiA1LAogICJzdHJva2UiOiB0cnVlLAogICJ3ZWlnaHQiOiAzCn0KICAgICAgICAgICAgICAgICkuYWRkVG8obWFwXzZlZjVkOTRhN2M4ZjRmZDc4MGQzOWVhMDgzY2JhZWViKTsKICAgICAgICAgICAgCiAgICAKICAgICAgICAgICAgdmFyIHBvcHVwXzU2NDg2NWZlOWFjZjRiZGNiNzE0ZDhhN2Q0Mzc0YTZmID0gTC5wb3B1cCh7bWF4V2lkdGg6ICczMDAnfSk7CgogICAgICAgICAgICAKICAgICAgICAgICAgICAgIHZhciBodG1sXzg2MGY3ZjU5MGY3NTQ3Y2RhNzJkZGU4OTIyYzk1MWIwID0gJCgnPGRpdiBpZD0iaHRtbF84NjBmN2Y1OTBmNzU0N2NkYTcyZGRlODkyMmM5NTFiMCIgc3R5bGU9IndpZHRoOiAxMDAuMCU7IGhlaWdodDogMTAwLjAlOyI+SGVyaXRhZ2UgQ2VudHJlICZhbXA7IEFlcm9zcGFjZSBNdXNldW0gQ2x1c3RlciAwPC9kaXY+JylbMF07CiAgICAgICAgICAgICAgICBwb3B1cF81NjQ4NjVmZTlhY2Y0YmRjYjcxNGQ4YTdkNDM3NGE2Zi5zZXRDb250ZW50KGh0bWxfODYwZjdmNTkwZjc1NDdjZGE3MmRkZTg5MjJjOTUxYjApOwogICAgICAgICAgICAKCiAgICAgICAgICAgIGNpcmNsZV9tYXJrZXJfOGQxNTdhODgyMDMzNDRjNGE3ZWY3NWQwZTE2ZWQ2ODAuYmluZFBvcHVwKHBvcHVwXzU2NDg2NWZlOWFjZjRiZGNiNzE0ZDhhN2Q0Mzc0YTZmKTsKCiAgICAgICAgICAgIAogICAgICAgIAogICAgCiAgICAgICAgICAgIHZhciBjaXJjbGVfbWFya2VyXzI2MGU4ODU2Yjg4NzRlOWJiNzIxMGNhY2NhMGFhZjdkID0gTC5jaXJjbGVNYXJrZXIoCiAgICAgICAgICAgICAgICBbMTIuODM0Mzk5Mjg3ODg1MTIzLDc3LjQxNDMwMTc3ODcxNTM4XSwKICAgICAgICAgICAgICAgIHsKICAiYnViYmxpbmdNb3VzZUV2ZW50cyI6IHRydWUsCiAgImNvbG9yIjogIiM4MGZmYjQiLAogICJkYXNoQXJyYXkiOiBudWxsLAogICJkYXNoT2Zmc2V0IjogbnVsbCwKICAiZmlsbCI6IHRydWUsCiAgImZpbGxDb2xvciI6ICIjODBmZmI0IiwKICAiZmlsbE9wYWNpdHkiOiAwLjcsCiAgImZpbGxSdWxlIjogImV2ZW5vZGQiLAogICJsaW5lQ2FwIjogInJvdW5kIiwKICAibGluZUpvaW4iOiAicm91bmQiLAogICJvcGFjaXR5IjogMS4wLAogICJyYWRpdXMiOiA1LAogICJzdHJva2UiOiB0cnVlLAogICJ3ZWlnaHQiOiAzCn0KICAgICAgICAgICAgICAgICkuYWRkVG8obWFwXzZlZjVkOTRhN2M4ZjRmZDc4MGQzOWVhMDgzY2JhZWViKTsKICAgICAgICAgICAgCiAgICAKICAgICAgICAgICAgdmFyIHBvcHVwXzY0ZjY3ODUwNzAzMDQ1NzY5ZGU5MDU5M2MxOWQxODQ4ID0gTC5wb3B1cCh7bWF4V2lkdGg6ICczMDAnfSk7CgogICAgICAgICAgICAKICAgICAgICAgICAgICAgIHZhciBodG1sXzFlOWNjMmY3ZDVmODRmZjg5NGZmZDZlNDg3MjdmZjRmID0gJCgnPGRpdiBpZD0iaHRtbF8xZTljYzJmN2Q1Zjg0ZmY4OTRmZmQ2ZTQ4NzI3ZmY0ZiIgc3R5bGU9IndpZHRoOiAxMDAuMCU7IGhlaWdodDogMTAwLjAlOyI+V29uZGVyIGxhIEFtdXNlbWVudCBQYXJrIENsdXN0ZXIgMjwvZGl2PicpWzBdOwogICAgICAgICAgICAgICAgcG9wdXBfNjRmNjc4NTA3MDMwNDU3NjlkZTkwNTkzYzE5ZDE4NDguc2V0Q29udGVudChodG1sXzFlOWNjMmY3ZDVmODRmZjg5NGZmZDZlNDg3MjdmZjRmKTsKICAgICAgICAgICAgCgogICAgICAgICAgICBjaXJjbGVfbWFya2VyXzI2MGU4ODU2Yjg4NzRlOWJiNzIxMGNhY2NhMGFhZjdkLmJpbmRQb3B1cChwb3B1cF82NGY2Nzg1MDcwMzA0NTc2OWRlOTA1OTNjMTlkMTg0OCk7CgogICAgICAgICAgICAKICAgICAgICAKICAgIAogICAgICAgICAgICB2YXIgY2lyY2xlX21hcmtlcl8xYTZlMTJkNTFhNzk0ZmU1ODYyYzNkOWJhODMyMWQxMCA9IEwuY2lyY2xlTWFya2VyKAogICAgICAgICAgICAgICAgWzEyLjc5MzA1MzIwMzI3OTg3Nyw3Ny40ODEwNzkxMDE1NjI1XSwKICAgICAgICAgICAgICAgIHsKICAiYnViYmxpbmdNb3VzZUV2ZW50cyI6IHRydWUsCiAgImNvbG9yIjogIiM4MGZmYjQiLAogICJkYXNoQXJyYXkiOiBudWxsLAogICJkYXNoT2Zmc2V0IjogbnVsbCwKICAiZmlsbCI6IHRydWUsCiAgImZpbGxDb2xvciI6ICIjODBmZmI0IiwKICAiZmlsbE9wYWNpdHkiOiAwLjcsCiAgImZpbGxSdWxlIjogImV2ZW5vZGQiLAogICJsaW5lQ2FwIjogInJvdW5kIiwKICAibGluZUpvaW4iOiAicm91bmQiLAogICJvcGFjaXR5IjogMS4wLAogICJyYWRpdXMiOiA1LAogICJzdHJva2UiOiB0cnVlLAogICJ3ZWlnaHQiOiAzCn0KICAgICAgICAgICAgICAgICkuYWRkVG8obWFwXzZlZjVkOTRhN2M4ZjRmZDc4MGQzOWVhMDgzY2JhZWViKTsKICAgICAgICAgICAgCiAgICAKICAgICAgICAgICAgdmFyIHBvcHVwXzRlMzY2MGQ2ZTQ1NzRlMzBhYzUxZjUyZmEwMjgwNjA5ID0gTC5wb3B1cCh7bWF4V2lkdGg6ICczMDAnfSk7CgogICAgICAgICAgICAKICAgICAgICAgICAgICAgIHZhciBodG1sXzllOWU2NzRjNTQ0NjQ2NTlhOTk2OWIyYThiMDhmMGM1ID0gJCgnPGRpdiBpZD0iaHRtbF85ZTllNjc0YzU0NDY0NjU5YTk5NjliMmE4YjA4ZjBjNSIgc3R5bGU9IndpZHRoOiAxMDAuMCU7IGhlaWdodDogMTAwLjAlOyI+SW5ub3ZhdGl2ZSBGaWxtIENpdHkgQ2x1c3RlciAyPC9kaXY+JylbMF07CiAgICAgICAgICAgICAgICBwb3B1cF80ZTM2NjBkNmU0NTc0ZTMwYWM1MWY1MmZhMDI4MDYwOS5zZXRDb250ZW50KGh0bWxfOWU5ZTY3NGM1NDQ2NDY1OWE5OTY5YjJhOGIwOGYwYzUpOwogICAgICAgICAgICAKCiAgICAgICAgICAgIGNpcmNsZV9tYXJrZXJfMWE2ZTEyZDUxYTc5NGZlNTg2MmMzZDliYTgzMjFkMTAuYmluZFBvcHVwKHBvcHVwXzRlMzY2MGQ2ZTQ1NzRlMzBhYzUxZjUyZmEwMjgwNjA5KTsKCiAgICAgICAgICAgIAogICAgICAgIAogICAgCiAgICAgICAgICAgIHZhciBjaXJjbGVfbWFya2VyX2U1N2VkNTcxMTI3MjQyMzBiOGE5ZGVjMzUzMDU4MmY2ID0gTC5jaXJjbGVNYXJrZXIoCiAgICAgICAgICAgICAgICBbMTIuODAxNDY0OTE3NTk5NjYxLDc3LjU3NjIzMzE0ODU3NDgzXSwKICAgICAgICAgICAgICAgIHsKICAiYnViYmxpbmdNb3VzZUV2ZW50cyI6IHRydWUsCiAgImNvbG9yIjogIiM4MDAwZmYiLAogICJkYXNoQXJyYXkiOiBudWxsLAogICJkYXNoT2Zmc2V0IjogbnVsbCwKICAiZmlsbCI6IHRydWUsCiAgImZpbGxDb2xvciI6ICIjODAwMGZmIiwKICAiZmlsbE9wYWNpdHkiOiAwLjcsCiAgImZpbGxSdWxlIjogImV2ZW5vZGQiLAogICJsaW5lQ2FwIjogInJvdW5kIiwKICAibGluZUpvaW4iOiAicm91bmQiLAogICJvcGFjaXR5IjogMS4wLAogICJyYWRpdXMiOiA1LAogICJzdHJva2UiOiB0cnVlLAogICJ3ZWlnaHQiOiAzCn0KICAgICAgICAgICAgICAgICkuYWRkVG8obWFwXzZlZjVkOTRhN2M4ZjRmZDc4MGQzOWVhMDgzY2JhZWViKTsKICAgICAgICAgICAgCiAgICAKICAgICAgICAgICAgdmFyIHBvcHVwXzM1Yzg2N2Y2ZjkzZTRmMjNhNTcyZjhmYWRkYjY1ZmJmID0gTC5wb3B1cCh7bWF4V2lkdGg6ICczMDAnfSk7CgogICAgICAgICAgICAKICAgICAgICAgICAgICAgIHZhciBodG1sX2IxNDU3NGNhMDZlNDQ0MTg5NzRhZTFkZTJjMjI1NTU1ID0gJCgnPGRpdiBpZD0iaHRtbF9iMTQ1NzRjYTA2ZTQ0NDE4OTc0YWUxZGUyYzIyNTU1NSIgc3R5bGU9IndpZHRoOiAxMDAuMCU7IGhlaWdodDogMTAwLjAlOyI+QmFubmVyZ2hhdHRhIE5hdGlvbmFsIFBhcmsgQ2x1c3RlciAxPC9kaXY+JylbMF07CiAgICAgICAgICAgICAgICBwb3B1cF8zNWM4NjdmNmY5M2U0ZjIzYTU3MmY4ZmFkZGI2NWZiZi5zZXRDb250ZW50KGh0bWxfYjE0NTc0Y2EwNmU0NDQxODk3NGFlMWRlMmMyMjU1NTUpOwogICAgICAgICAgICAKCiAgICAgICAgICAgIGNpcmNsZV9tYXJrZXJfZTU3ZWQ1NzExMjcyNDIzMGI4YTlkZWMzNTMwNTgyZjYuYmluZFBvcHVwKHBvcHVwXzM1Yzg2N2Y2ZjkzZTRmMjNhNTcyZjhmYWRkYjY1ZmJmKTsKCiAgICAgICAgICAgIAogICAgICAgIAogICAgCiAgICAgICAgICAgIHZhciBjaXJjbGVfbWFya2VyXzE0OTIwZGJiYzFkZjRlNjJhZGZhNjg1ODNjNDM5OWMyID0gTC5jaXJjbGVNYXJrZXIoCiAgICAgICAgICAgICAgICBbMTIuOTQ4OTQ4NDgwMTE0MzE4LDc3LjU4Njk1MTI1NTc5ODM0XSwKICAgICAgICAgICAgICAgIHsKICAiYnViYmxpbmdNb3VzZUV2ZW50cyI6IHRydWUsCiAgImNvbG9yIjogIiNmZjAwMDAiLAogICJkYXNoQXJyYXkiOiBudWxsLAogICJkYXNoT2Zmc2V0IjogbnVsbCwKICAiZmlsbCI6IHRydWUsCiAgImZpbGxDb2xvciI6ICIjZmYwMDAwIiwKICAiZmlsbE9wYWNpdHkiOiAwLjcsCiAgImZpbGxSdWxlIjogImV2ZW5vZGQiLAogICJsaW5lQ2FwIjogInJvdW5kIiwKICAibGluZUpvaW4iOiAicm91bmQiLAogICJvcGFjaXR5IjogMS4wLAogICJyYWRpdXMiOiA1LAogICJzdHJva2UiOiB0cnVlLAogICJ3ZWlnaHQiOiAzCn0KICAgICAgICAgICAgICAgICkuYWRkVG8obWFwXzZlZjVkOTRhN2M4ZjRmZDc4MGQzOWVhMDgzY2JhZWViKTsKICAgICAgICAgICAgCiAgICAKICAgICAgICAgICAgdmFyIHBvcHVwXzY0OWFhZmZmNDE4ZTQ0NTE4YzIzNDA4NTcxZTk3YjRhID0gTC5wb3B1cCh7bWF4V2lkdGg6ICczMDAnfSk7CgogICAgICAgICAgICAKICAgICAgICAgICAgICAgIHZhciBodG1sXzdjZjA1NThlNjQ1MDQwNTliZTFkOTYwYWU3ZmMzZTJkID0gJCgnPGRpdiBpZD0iaHRtbF83Y2YwNTU4ZTY0NTA0MDU5YmUxZDk2MGFlN2ZjM2UyZCIgc3R5bGU9IndpZHRoOiAxMDAuMCU7IGhlaWdodDogMTAwLjAlOyI+TGFsYmFnaCBCb3RhbmljYWwgR2FyZGVuIENsdXN0ZXIgMDwvZGl2PicpWzBdOwogICAgICAgICAgICAgICAgcG9wdXBfNjQ5YWFmZmY0MThlNDQ1MThjMjM0MDg1NzFlOTdiNGEuc2V0Q29udGVudChodG1sXzdjZjA1NThlNjQ1MDQwNTliZTFkOTYwYWU3ZmMzZTJkKTsKICAgICAgICAgICAgCgogICAgICAgICAgICBjaXJjbGVfbWFya2VyXzE0OTIwZGJiYzFkZjRlNjJhZGZhNjg1ODNjNDM5OWMyLmJpbmRQb3B1cChwb3B1cF82NDlhYWZmZjQxOGU0NDUxOGMyMzQwODU3MWU5N2I0YSk7CgogICAgICAgICAgICAKICAgICAgICAKICAgIAogICAgICAgICAgICB2YXIgY2lyY2xlX21hcmtlcl9mNDM2ZjMzMmMyY2Q0Y2IwYWI0Mzg3YTg2N2EyY2UwYiA9IEwuY2lyY2xlTWFya2VyKAogICAgICAgICAgICAgICAgWzEyLjk3NzA0MjE3NTIwMzc4Myw3Ny41OTUyNzY4MzI1ODA1N10sCiAgICAgICAgICAgICAgICB7CiAgImJ1YmJsaW5nTW91c2VFdmVudHMiOiB0cnVlLAogICJjb2xvciI6ICIjZmYwMDAwIiwKICAiZGFzaEFycmF5IjogbnVsbCwKICAiZGFzaE9mZnNldCI6IG51bGwsCiAgImZpbGwiOiB0cnVlLAogICJmaWxsQ29sb3IiOiAiI2ZmMDAwMCIsCiAgImZpbGxPcGFjaXR5IjogMC43LAogICJmaWxsUnVsZSI6ICJldmVub2RkIiwKICAibGluZUNhcCI6ICJyb3VuZCIsCiAgImxpbmVKb2luIjogInJvdW5kIiwKICAib3BhY2l0eSI6IDEuMCwKICAicmFkaXVzIjogNSwKICAic3Ryb2tlIjogdHJ1ZSwKICAid2VpZ2h0IjogMwp9CiAgICAgICAgICAgICAgICApLmFkZFRvKG1hcF82ZWY1ZDk0YTdjOGY0ZmQ3ODBkMzllYTA4M2NiYWVlYik7CiAgICAgICAgICAgIAogICAgCiAgICAgICAgICAgIHZhciBwb3B1cF9jMTExYzU1OTMxNTI0YWFlYTNhMDY0MjBhZTMzMmM0ZCA9IEwucG9wdXAoe21heFdpZHRoOiAnMzAwJ30pOwoKICAgICAgICAgICAgCiAgICAgICAgICAgICAgICB2YXIgaHRtbF8yYjczMTZjYWQ0NTk0ZWQxOGRhM2Y3NjQ1NmMyODIyNiA9ICQoJzxkaXYgaWQ9Imh0bWxfMmI3MzE2Y2FkNDU5NGVkMThkYTNmNzY0NTZjMjgyMjYiIHN0eWxlPSJ3aWR0aDogMTAwLjAlOyBoZWlnaHQ6IDEwMC4wJTsiPkN1YmJvbiBQYXJrIENsdXN0ZXIgMDwvZGl2PicpWzBdOwogICAgICAgICAgICAgICAgcG9wdXBfYzExMWM1NTkzMTUyNGFhZWEzYTA2NDIwYWUzMzJjNGQuc2V0Q29udGVudChodG1sXzJiNzMxNmNhZDQ1OTRlZDE4ZGEzZjc2NDU2YzI4MjI2KTsKICAgICAgICAgICAgCgogICAgICAgICAgICBjaXJjbGVfbWFya2VyX2Y0MzZmMzMyYzJjZDRjYjBhYjQzODdhODY3YTJjZTBiLmJpbmRQb3B1cChwb3B1cF9jMTExYzU1OTMxNTI0YWFlYTNhMDY0MjBhZTMzMmM0ZCk7CgogICAgICAgICAgICAKICAgICAgICAKICAgIAogICAgICAgICAgICB2YXIgY2lyY2xlX21hcmtlcl85NzRjOWY0Njk2NTk0ZjM5YTMyNTM1N2M4ZDhkYmNiZiA9IEwuY2lyY2xlTWFya2VyKAogICAgICAgICAgICAgICAgWzEyLjk1OTU2MTM3Mjg2MDYxNiw3Ny41NzM3NDQzMjUwNDI2OF0sCiAgICAgICAgICAgICAgICB7CiAgImJ1YmJsaW5nTW91c2VFdmVudHMiOiB0cnVlLAogICJjb2xvciI6ICIjZmYwMDAwIiwKICAiZGFzaEFycmF5IjogbnVsbCwKICAiZGFzaE9mZnNldCI6IG51bGwsCiAgImZpbGwiOiB0cnVlLAogICJmaWxsQ29sb3IiOiAiI2ZmMDAwMCIsCiAgImZpbGxPcGFjaXR5IjogMC43LAogICJmaWxsUnVsZSI6ICJldmVub2RkIiwKICAibGluZUNhcCI6ICJyb3VuZCIsCiAgImxpbmVKb2luIjogInJvdW5kIiwKICAib3BhY2l0eSI6IDEuMCwKICAicmFkaXVzIjogNSwKICAic3Ryb2tlIjogdHJ1ZSwKICAid2VpZ2h0IjogMwp9CiAgICAgICAgICAgICAgICApLmFkZFRvKG1hcF82ZWY1ZDk0YTdjOGY0ZmQ3ODBkMzllYTA4M2NiYWVlYik7CiAgICAgICAgICAgIAogICAgCiAgICAgICAgICAgIHZhciBwb3B1cF85ZTVlYTc5MmFkNmU0YWQ0YThjN2NlZGU5NDlkZWVhMCA9IEwucG9wdXAoe21heFdpZHRoOiAnMzAwJ30pOwoKICAgICAgICAgICAgCiAgICAgICAgICAgICAgICB2YXIgaHRtbF9hNDVmZmUwOGQxYmI0ODYwYjI1MDk0MzdlZDhhMmJkZCA9ICQoJzxkaXYgaWQ9Imh0bWxfYTQ1ZmZlMDhkMWJiNDg2MGIyNTA5NDM3ZWQ4YTJiZGQiIHN0eWxlPSJ3aWR0aDogMTAwLjAlOyBoZWlnaHQ6IDEwMC4wJTsiPlRpcHUmIzM5O3MgU3VtbWVyIFBhbGFjZSBDbHVzdGVyIDA8L2Rpdj4nKVswXTsKICAgICAgICAgICAgICAgIHBvcHVwXzllNWVhNzkyYWQ2ZTRhZDRhOGM3Y2VkZTk0OWRlZWEwLnNldENvbnRlbnQoaHRtbF9hNDVmZmUwOGQxYmI0ODYwYjI1MDk0MzdlZDhhMmJkZCk7CiAgICAgICAgICAgIAoKICAgICAgICAgICAgY2lyY2xlX21hcmtlcl85NzRjOWY0Njk2NTk0ZjM5YTMyNTM1N2M4ZDhkYmNiZi5iaW5kUG9wdXAocG9wdXBfOWU1ZWE3OTJhZDZlNGFkNGE4YzdjZWRlOTQ5ZGVlYTApOwoKICAgICAgICAgICAgCiAgICAgICAgCiAgICAKICAgICAgICAgICAgdmFyIGNpcmNsZV9tYXJrZXJfODUwZWMwYzY5YzA0NDdmODg0MzQ4YTQwMzE5NjQxNmUgPSBMLmNpcmNsZU1hcmtlcigKICAgICAgICAgICAgICAgIFsxMi44MDA0MTc2NTcyMTc0NzgsNzcuNTc3MDAwNzEwMTI2MjRdLAogICAgICAgICAgICAgICAgewogICJidWJibGluZ01vdXNlRXZlbnRzIjogdHJ1ZSwKICAiY29sb3IiOiAiIzgwMDBmZiIsCiAgImRhc2hBcnJheSI6IG51bGwsCiAgImRhc2hPZmZzZXQiOiBudWxsLAogICJmaWxsIjogdHJ1ZSwKICAiZmlsbENvbG9yIjogIiM4MDAwZmYiLAogICJmaWxsT3BhY2l0eSI6IDAuNywKICAiZmlsbFJ1bGUiOiAiZXZlbm9kZCIsCiAgImxpbmVDYXAiOiAicm91bmQiLAogICJsaW5lSm9pbiI6ICJyb3VuZCIsCiAgIm9wYWNpdHkiOiAxLjAsCiAgInJhZGl1cyI6IDUsCiAgInN0cm9rZSI6IHRydWUsCiAgIndlaWdodCI6IDMKfQogICAgICAgICAgICAgICAgKS5hZGRUbyhtYXBfNmVmNWQ5NGE3YzhmNGZkNzgwZDM5ZWEwODNjYmFlZWIpOwogICAgICAgICAgICAKICAgIAogICAgICAgICAgICB2YXIgcG9wdXBfOTAwOTlkNTI3YjdjNDE3ZmI3N2VhZmQ4NGI5NjkyNjggPSBMLnBvcHVwKHttYXhXaWR0aDogJzMwMCd9KTsKCiAgICAgICAgICAgIAogICAgICAgICAgICAgICAgdmFyIGh0bWxfMjcyMTEwZGQ0N2U3NDFjZmIyNzFkZmM0NTlkYzdiNGMgPSAkKCc8ZGl2IGlkPSJodG1sXzI3MjExMGRkNDdlNzQxY2ZiMjcxZGZjNDU5ZGM3YjRjIiBzdHlsZT0id2lkdGg6IDEwMC4wJTsgaGVpZ2h0OiAxMDAuMCU7Ij5CdXR0ZXJmbHkgUGFyayBDbHVzdGVyIDE8L2Rpdj4nKVswXTsKICAgICAgICAgICAgICAgIHBvcHVwXzkwMDk5ZDUyN2I3YzQxN2ZiNzdlYWZkODRiOTY5MjY4LnNldENvbnRlbnQoaHRtbF8yNzIxMTBkZDQ3ZTc0MWNmYjI3MWRmYzQ1OWRjN2I0Yyk7CiAgICAgICAgICAgIAoKICAgICAgICAgICAgY2lyY2xlX21hcmtlcl84NTBlYzBjNjljMDQ0N2Y4ODQzNDhhNDAzMTk2NDE2ZS5iaW5kUG9wdXAocG9wdXBfOTAwOTlkNTI3YjdjNDE3ZmI3N2VhZmQ4NGI5NjkyNjgpOwoKICAgICAgICAgICAgCiAgICAgICAgCiAgICAKICAgICAgICAgICAgdmFyIGNpcmNsZV9tYXJrZXJfZTE3ZDBkNjE1NjkyNDdkYjkyZDZkMTNmZGY5YTc4OGIgPSBMLmNpcmNsZU1hcmtlcigKICAgICAgICAgICAgICAgIFsxMi45NzkwMjcwODUxOTE1NjYsNzcuNTkxODgxMjMwODA5MDFdLAogICAgICAgICAgICAgICAgewogICJidWJibGluZ01vdXNlRXZlbnRzIjogdHJ1ZSwKICAiY29sb3IiOiAiI2ZmMDAwMCIsCiAgImRhc2hBcnJheSI6IG51bGwsCiAgImRhc2hPZmZzZXQiOiBudWxsLAogICJmaWxsIjogdHJ1ZSwKICAiZmlsbENvbG9yIjogIiNmZjAwMDAiLAogICJmaWxsT3BhY2l0eSI6IDAuNywKICAiZmlsbFJ1bGUiOiAiZXZlbm9kZCIsCiAgImxpbmVDYXAiOiAicm91bmQiLAogICJsaW5lSm9pbiI6ICJyb3VuZCIsCiAgIm9wYWNpdHkiOiAxLjAsCiAgInJhZGl1cyI6IDUsCiAgInN0cm9rZSI6IHRydWUsCiAgIndlaWdodCI6IDMKfQogICAgICAgICAgICAgICAgKS5hZGRUbyhtYXBfNmVmNWQ5NGE3YzhmNGZkNzgwZDM5ZWEwODNjYmFlZWIpOwogICAgICAgICAgICAKICAgIAogICAgICAgICAgICB2YXIgcG9wdXBfMGE4YWEzYjNlMDViNDM4MWE1YThkNWQ1ZmI1MDhiMTAgPSBMLnBvcHVwKHttYXhXaWR0aDogJzMwMCd9KTsKCiAgICAgICAgICAgIAogICAgICAgICAgICAgICAgdmFyIGh0bWxfY2Q3ZDJiYTBhNmQwNDA0ZTkwYThmNjljZjY2MzhhZWMgPSAkKCc8ZGl2IGlkPSJodG1sX2NkN2QyYmEwYTZkMDQwNGU5MGE4ZjY5Y2Y2NjM4YWVjIiBzdHlsZT0id2lkdGg6IDEwMC4wJTsgaGVpZ2h0OiAxMDAuMCU7Ij5WaWRoYW5hIFNvdWRoYSBDbHVzdGVyIDA8L2Rpdj4nKVswXTsKICAgICAgICAgICAgICAgIHBvcHVwXzBhOGFhM2IzZTA1YjQzODFhNWE4ZDVkNWZiNTA4YjEwLnNldENvbnRlbnQoaHRtbF9jZDdkMmJhMGE2ZDA0MDRlOTBhOGY2OWNmNjYzOGFlYyk7CiAgICAgICAgICAgIAoKICAgICAgICAgICAgY2lyY2xlX21hcmtlcl9lMTdkMGQ2MTU2OTI0N2RiOTJkNmQxM2ZkZjlhNzg4Yi5iaW5kUG9wdXAocG9wdXBfMGE4YWEzYjNlMDViNDM4MWE1YThkNWQ1ZmI1MDhiMTApOwoKICAgICAgICAgICAgCiAgICAgICAgCiAgICAKICAgICAgICAgICAgdmFyIGNpcmNsZV9tYXJrZXJfNjc0MmJmNGIyMTg0NGI3MjlkNjFmYTlkYzZhNzlkZDAgPSBMLmNpcmNsZU1hcmtlcigKICAgICAgICAgICAgICAgIFsxMi45OTgxODc5MjY5ODczMTcsNzcuNTkxOTIwNDAyMjE1Ml0sCiAgICAgICAgICAgICAgICB7CiAgImJ1YmJsaW5nTW91c2VFdmVudHMiOiB0cnVlLAogICJjb2xvciI6ICIjZmYwMDAwIiwKICAiZGFzaEFycmF5IjogbnVsbCwKICAiZGFzaE9mZnNldCI6IG51bGwsCiAgImZpbGwiOiB0cnVlLAogICJmaWxsQ29sb3IiOiAiI2ZmMDAwMCIsCiAgImZpbGxPcGFjaXR5IjogMC43LAogICJmaWxsUnVsZSI6ICJldmVub2RkIiwKICAibGluZUNhcCI6ICJyb3VuZCIsCiAgImxpbmVKb2luIjogInJvdW5kIiwKICAib3BhY2l0eSI6IDEuMCwKICAicmFkaXVzIjogNSwKICAic3Ryb2tlIjogdHJ1ZSwKICAid2VpZ2h0IjogMwp9CiAgICAgICAgICAgICAgICApLmFkZFRvKG1hcF82ZWY1ZDk0YTdjOGY0ZmQ3ODBkMzllYTA4M2NiYWVlYik7CiAgICAgICAgICAgIAogICAgCiAgICAgICAgICAgIHZhciBwb3B1cF8yYmY5OGU1OTk0OTc0YmMxODQ0MjA3MmUwZjVhNjM4MyA9IEwucG9wdXAoe21heFdpZHRoOiAnMzAwJ30pOwoKICAgICAgICAgICAgCiAgICAgICAgICAgICAgICB2YXIgaHRtbF9jYjUxMDdjYTI5MWU0NThjYmYzN2EzOTcyMmM5YmVlNCA9ICQoJzxkaXYgaWQ9Imh0bWxfY2I1MTA3Y2EyOTFlNDU4Y2JmMzdhMzk3MjJjOWJlZTQiIHN0eWxlPSJ3aWR0aDogMTAwLjAlOyBoZWlnaHQ6IDEwMC4wJTsiPkJhbmdhbG9yZSBQYWxhY2UgQ2x1c3RlciAwPC9kaXY+JylbMF07CiAgICAgICAgICAgICAgICBwb3B1cF8yYmY5OGU1OTk0OTc0YmMxODQ0MjA3MmUwZjVhNjM4My5zZXRDb250ZW50KGh0bWxfY2I1MTA3Y2EyOTFlNDU4Y2JmMzdhMzk3MjJjOWJlZTQpOwogICAgICAgICAgICAKCiAgICAgICAgICAgIGNpcmNsZV9tYXJrZXJfNjc0MmJmNGIyMTg0NGI3MjlkNjFmYTlkYzZhNzlkZDAuYmluZFBvcHVwKHBvcHVwXzJiZjk4ZTU5OTQ5NzRiYzE4NDQyMDcyZTBmNWE2MzgzKTsKCiAgICAgICAgICAgIAogICAgICAgIAogICAgCiAgICAgICAgICAgIHZhciBjaXJjbGVfbWFya2VyXzk4NTAyYjFiYTA4MTRmNWJiOTgzZDZjNGM0YTFkNzA1ID0gTC5jaXJjbGVNYXJrZXIoCiAgICAgICAgICAgICAgICBbMTMuMDEwODg5OTcxODg1MDI4LDc3LjU1MTQ4OTc3MDQxMjQ1XSwKICAgICAgICAgICAgICAgIHsKICAiYnViYmxpbmdNb3VzZUV2ZW50cyI6IHRydWUsCiAgImNvbG9yIjogIiNmZjAwMDAiLAogICJkYXNoQXJyYXkiOiBudWxsLAogICJkYXNoT2Zmc2V0IjogbnVsbCwKICAiZmlsbCI6IHRydWUsCiAgImZpbGxDb2xvciI6ICIjZmYwMDAwIiwKICAiZmlsbE9wYWNpdHkiOiAwLjcsCiAgImZpbGxSdWxlIjogImV2ZW5vZGQiLAogICJsaW5lQ2FwIjogInJvdW5kIiwKICAibGluZUpvaW4iOiAicm91bmQiLAogICJvcGFjaXR5IjogMS4wLAogICJyYWRpdXMiOiA1LAogICJzdHJva2UiOiB0cnVlLAogICJ3ZWlnaHQiOiAzCn0KICAgICAgICAgICAgICAgICkuYWRkVG8obWFwXzZlZjVkOTRhN2M4ZjRmZDc4MGQzOWVhMDgzY2JhZWViKTsKICAgICAgICAgICAgCiAgICAKICAgICAgICAgICAgdmFyIHBvcHVwXzUyNzUxM2UwNzE3ZjRiY2I4MWJiM2E3YTg1MjJmZmFhID0gTC5wb3B1cCh7bWF4V2lkdGg6ICczMDAnfSk7CgogICAgICAgICAgICAKICAgICAgICAgICAgICAgIHZhciBodG1sX2U1Yjg3OWVmOTBiODQzZDY4MTYzZWQzOTNiYmZmNGZjID0gJCgnPGRpdiBpZD0iaHRtbF9lNWI4NzllZjkwYjg0M2Q2ODE2M2VkMzkzYmJmZjRmYyIgc3R5bGU9IndpZHRoOiAxMDAuMCU7IGhlaWdodDogMTAwLjAlOyI+SVNLQ09OIEJhbmdhbG9yZSBDbHVzdGVyIDA8L2Rpdj4nKVswXTsKICAgICAgICAgICAgICAgIHBvcHVwXzUyNzUxM2UwNzE3ZjRiY2I4MWJiM2E3YTg1MjJmZmFhLnNldENvbnRlbnQoaHRtbF9lNWI4NzllZjkwYjg0M2Q2ODE2M2VkMzkzYmJmZjRmYyk7CiAgICAgICAgICAgIAoKICAgICAgICAgICAgY2lyY2xlX21hcmtlcl85ODUwMmIxYmEwODE0ZjViYjk4M2Q2YzRjNGExZDcwNS5iaW5kUG9wdXAocG9wdXBfNTI3NTEzZTA3MTdmNGJjYjgxYmIzYTdhODUyMmZmYWEpOwoKICAgICAgICAgICAgCiAgICAgICAgCiAgICAKICAgICAgICAgICAgdmFyIGNpcmNsZV9tYXJrZXJfYTc1NzU0MTk2Nzg4NGMxMGFhNDI1NzhlYzA3MTYxODYgPSBMLmNpcmNsZU1hcmtlcigKICAgICAgICAgICAgICAgIFsxMi45NDI3NjM2Mjc4ODI5NCw3Ny41Njc3NDM0Njc3OTc5NF0sCiAgICAgICAgICAgICAgICB7CiAgImJ1YmJsaW5nTW91c2VFdmVudHMiOiB0cnVlLAogICJjb2xvciI6ICIjZmYwMDAwIiwKICAiZGFzaEFycmF5IjogbnVsbCwKICAiZGFzaE9mZnNldCI6IG51bGwsCiAgImZpbGwiOiB0cnVlLAogICJmaWxsQ29sb3IiOiAiI2ZmMDAwMCIsCiAgImZpbGxPcGFjaXR5IjogMC43LAogICJmaWxsUnVsZSI6ICJldmVub2RkIiwKICAibGluZUNhcCI6ICJyb3VuZCIsCiAgImxpbmVKb2luIjogInJvdW5kIiwKICAib3BhY2l0eSI6IDEuMCwKICAicmFkaXVzIjogNSwKICAic3Ryb2tlIjogdHJ1ZSwKICAid2VpZ2h0IjogMwp9CiAgICAgICAgICAgICAgICApLmFkZFRvKG1hcF82ZWY1ZDk0YTdjOGY0ZmQ3ODBkMzllYTA4M2NiYWVlYik7CiAgICAgICAgICAgIAogICAgCiAgICAgICAgICAgIHZhciBwb3B1cF9hMjUyMjIyOTViYjM0ZTFjODdhY2RhODZmMzhiNzUyYyA9IEwucG9wdXAoe21heFdpZHRoOiAnMzAwJ30pOwoKICAgICAgICAgICAgCiAgICAgICAgICAgICAgICB2YXIgaHRtbF9hYTVjN2EwNDJmZTY0ZWE3OTljNGExYWUxNTNiZTdkMCA9ICQoJzxkaXYgaWQ9Imh0bWxfYWE1YzdhMDQyZmU2NGVhNzk5YzRhMWFlMTUzYmU3ZDAiIHN0eWxlPSJ3aWR0aDogMTAwLjAlOyBoZWlnaHQ6IDEwMC4wJTsiPkJ1bGwgVGVtcGxlIENsdXN0ZXIgMDwvZGl2PicpWzBdOwogICAgICAgICAgICAgICAgcG9wdXBfYTI1MjIyMjk1YmIzNGUxYzg3YWNkYTg2ZjM4Yjc1MmMuc2V0Q29udGVudChodG1sX2FhNWM3YTA0MmZlNjRlYTc5OWM0YTFhZTE1M2JlN2QwKTsKICAgICAgICAgICAgCgogICAgICAgICAgICBjaXJjbGVfbWFya2VyX2E3NTc1NDE5Njc4ODRjMTBhYTQyNTc4ZWMwNzE2MTg2LmJpbmRQb3B1cChwb3B1cF9hMjUyMjIyOTViYjM0ZTFjODdhY2RhODZmMzhiNzUyYyk7CgogICAgICAgICAgICAKICAgICAgICAKPC9zY3JpcHQ+\" style=\"position:absolute;width:100%;height:100%;left:0;top:0;border:none !important;\" allowfullscreen webkitallowfullscreen mozallowfullscreen></iframe></div></div>"
      ],
      "text/plain": [
       "<folium.folium.Map at 0x7fd58b597e10>"
      ]
     },
     "execution_count": 57,
     "metadata": {},
     "output_type": "execute_result"
    }
   ],
   "source": [
    "# create map\n",
    "map_clusters = folium.Map(location=[lat, lng], zoom_start=11)\n",
    "\n",
    "# set color scheme for the clusters\n",
    "x = np.arange(kclusters)\n",
    "ys = [i+x+(i*x)**2 for i in range(kclusters)]\n",
    "colors_array = cm.rainbow(np.linspace(0, 1, len(ys)))\n",
    "rainbow = [colors.rgb2hex(i) for i in colors_array]\n",
    "\n",
    "# add markers to the map\n",
    "markers_colors = []\n",
    "for lat, lon, poi, cluster in zip(venues_grouped['Latitude'], venues_grouped['Longtitude'], venues_grouped['Name'], venues_grouped['Cluster Labels']):\n",
    "    label = folium.Popup(str(poi) + ' Cluster ' + str(cluster), parse_html=True)\n",
    "    folium.CircleMarker(\n",
    "        [lat, lon],\n",
    "        radius=5,\n",
    "        popup=label,\n",
    "        color=rainbow[cluster-1],\n",
    "        fill=True,\n",
    "        fill_color=rainbow[cluster-1],\n",
    "        fill_opacity=0.7).add_to(map_clusters)\n",
    "       \n",
    "map_clusters"
   ]
  },
  {
   "cell_type": "code",
   "execution_count": null,
   "metadata": {},
   "outputs": [],
   "source": []
  }
 ],
 "metadata": {
  "kernelspec": {
   "display_name": "Python 3",
   "language": "python",
   "name": "python3"
  },
  "language_info": {
   "codemirror_mode": {
    "name": "ipython",
    "version": 3
   },
   "file_extension": ".py",
   "mimetype": "text/x-python",
   "name": "python",
   "nbconvert_exporter": "python",
   "pygments_lexer": "ipython3",
   "version": "3.6.5"
  }
 },
 "nbformat": 4,
 "nbformat_minor": 2
}
