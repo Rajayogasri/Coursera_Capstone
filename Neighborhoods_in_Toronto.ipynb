{
 "cells": [
  {
   "cell_type": "code",
   "execution_count": 15,
   "metadata": {},
   "outputs": [],
   "source": [
    "import requests\n",
    "website_url = requests.get('https://en.wikipedia.org/wiki/List_of_postal_codes_of_Canada:_M').text"
   ]
  },
  {
   "cell_type": "code",
   "execution_count": null,
   "metadata": {},
   "outputs": [],
   "source": [
    "from bs4 import BeautifulSoup\n",
    "soup = BeautifulSoup(website_url,'lxml')\n",
    "print(soup.prettify())"
   ]
  },
  {
   "cell_type": "code",
   "execution_count": null,
   "metadata": {},
   "outputs": [],
   "source": [
    "table = soup.find('table',{'class':'wikitable sortable'})\n",
    "table"
   ]
  },
  {
   "cell_type": "code",
   "execution_count": null,
   "metadata": {},
   "outputs": [],
   "source": [
    "PostalCode = []\n",
    "Borough = []\n",
    "Neighborhood = []\n",
    "for row in table.findAll(\"tr\")[1:]:\n",
    "    data = row.findAll(\"td\")\n",
    "    PostalCode.append(data[0].find(text=True))\n",
    "    Borough.append(data[1].find(text=True))\n",
    "    Neighborhood.append(data[2].find(text=True))\n",
    "print(PostalCode)\n",
    "print(Borough)\n",
    "print(Neighborhood)"
   ]
  },
  {
   "cell_type": "code",
   "execution_count": null,
   "metadata": {},
   "outputs": [],
   "source": [
    "import pandas as pd\n",
    "nh_df = pd.DataFrame()\n",
    "nh_df['PostalCode'] = PostalCode\n",
    "nh_df['Borough'] = Borough\n",
    "nh_df['Neighborhood'] = Neighborhood\n",
    "nh_df"
   ]
  },
  {
   "cell_type": "code",
   "execution_count": null,
   "metadata": {},
   "outputs": [],
   "source": [
    "nh_df = nh_df[nh_df.Borough != \"Not assigned\"]\n",
    "nh_df"
   ]
  },
  {
   "cell_type": "code",
   "execution_count": null,
   "metadata": {},
   "outputs": [],
   "source": [
    "grouped = nh_df.groupby(['PostalCode'])\n",
    "for name, group in grouped:\n",
    "    print(name)\n",
    "    print(group)\n",
    "  "
   ]
  },
  {
   "cell_type": "code",
   "execution_count": null,
   "metadata": {},
   "outputs": [],
   "source": [
    "nh_df['Neighborhood'] = nh_df[['PostalCode','Borough','Neighborhood']].groupby(['PostalCode'])['Neighborhood'].transform(lambda x: ','.join(x))\n",
    "nh_df[['PostalCode', 'Borough', 'Neighborhood']].drop_duplicates()"
   ]
  },
  {
   "cell_type": "code",
   "execution_count": 37,
   "metadata": {},
   "outputs": [
    {
     "name": "stdout",
     "output_type": "stream",
     "text": [
      "    PostalCode           Borough  \\\n",
      "2          M3A        North York   \n",
      "3          M4A        North York   \n",
      "4          M5A  Downtown Toronto   \n",
      "5          M5A  Downtown Toronto   \n",
      "6          M6A        North York   \n",
      "7          M6A        North York   \n",
      "8          M7A      Queen's Park   \n",
      "10         M9A         Etobicoke   \n",
      "11         M1B       Scarborough   \n",
      "12         M1B       Scarborough   \n",
      "14         M3B        North York   \n",
      "15         M4B         East York   \n",
      "16         M4B         East York   \n",
      "17         M5B  Downtown Toronto   \n",
      "18         M5B  Downtown Toronto   \n",
      "19         M6B        North York   \n",
      "22         M9B         Etobicoke   \n",
      "23         M9B         Etobicoke   \n",
      "24         M9B         Etobicoke   \n",
      "25         M9B         Etobicoke   \n",
      "26         M9B         Etobicoke   \n",
      "27         M1C       Scarborough   \n",
      "28         M1C       Scarborough   \n",
      "29         M1C       Scarborough   \n",
      "31         M3C        North York   \n",
      "32         M3C        North York   \n",
      "33         M4C         East York   \n",
      "34         M5C  Downtown Toronto   \n",
      "35         M6C              York   \n",
      "38         M9C         Etobicoke   \n",
      "..         ...               ...   \n",
      "236        M1W       Scarborough   \n",
      "237        M1W       Scarborough   \n",
      "240        M4W  Downtown Toronto   \n",
      "241        M5W  Downtown Toronto   \n",
      "244        M8W         Etobicoke   \n",
      "245        M8W         Etobicoke   \n",
      "246        M9W         Etobicoke   \n",
      "247        M1X       Scarborough   \n",
      "250        M4X  Downtown Toronto   \n",
      "251        M4X  Downtown Toronto   \n",
      "252        M5X  Downtown Toronto   \n",
      "253        M5X  Downtown Toronto   \n",
      "256        M8X         Etobicoke   \n",
      "257        M8X         Etobicoke   \n",
      "258        M8X         Etobicoke   \n",
      "263        M4Y  Downtown Toronto   \n",
      "266        M7Y      East Toronto   \n",
      "267        M8Y         Etobicoke   \n",
      "268        M8Y         Etobicoke   \n",
      "269        M8Y         Etobicoke   \n",
      "270        M8Y         Etobicoke   \n",
      "271        M8Y         Etobicoke   \n",
      "272        M8Y         Etobicoke   \n",
      "273        M8Y         Etobicoke   \n",
      "274        M8Y         Etobicoke   \n",
      "283        M8Z         Etobicoke   \n",
      "284        M8Z         Etobicoke   \n",
      "285        M8Z         Etobicoke   \n",
      "286        M8Z         Etobicoke   \n",
      "287        M8Z         Etobicoke   \n",
      "\n",
      "                                          Neighborhood  \n",
      "2                                            Parkwoods  \n",
      "3                                     Victoria Village  \n",
      "4    Harbourfront,Regent Park,Harbourfront,Regent P...  \n",
      "5    Harbourfront,Regent Park,Harbourfront,Regent P...  \n",
      "6    Lawrence Heights,Lawrence Manor,Lawrence Heigh...  \n",
      "7    Lawrence Heights,Lawrence Manor,Lawrence Heigh...  \n",
      "8                                       Not assigned\\n  \n",
      "10                                    Islington Avenue  \n",
      "11   Rouge,Malvern,Rouge,Malvern,Rouge,Malvern,Roug...  \n",
      "12   Rouge,Malvern,Rouge,Malvern,Rouge,Malvern,Roug...  \n",
      "14                                   Don Mills North\\n  \n",
      "15   Woodbine Gardens,Parkview Hill,Woodbine Garden...  \n",
      "16   Woodbine Gardens,Parkview Hill,Woodbine Garden...  \n",
      "17   Ryerson,Garden District\\n,Ryerson,Garden Distr...  \n",
      "18   Ryerson,Garden District\\n,Ryerson,Garden Distr...  \n",
      "19                                           Glencairn  \n",
      "22   Cloverdale\\n,Islington,Martin Grove\\n,Princess...  \n",
      "23   Cloverdale\\n,Islington,Martin Grove\\n,Princess...  \n",
      "24   Cloverdale\\n,Islington,Martin Grove\\n,Princess...  \n",
      "25   Cloverdale\\n,Islington,Martin Grove\\n,Princess...  \n",
      "26   Cloverdale\\n,Islington,Martin Grove\\n,Princess...  \n",
      "27   Highland Creek,Rouge Hill,Port Union,Highland ...  \n",
      "28   Highland Creek,Rouge Hill,Port Union,Highland ...  \n",
      "29   Highland Creek,Rouge Hill,Port Union,Highland ...  \n",
      "31   Flemingdon Park,Don Mills South\\n,Flemingdon P...  \n",
      "32   Flemingdon Park,Don Mills South\\n,Flemingdon P...  \n",
      "33                                    Woodbine Heights  \n",
      "34                                      St. James Town  \n",
      "35                                  Humewood-Cedarvale  \n",
      "38   Bloordale Gardens\\n,Eringate\\n,Markland Wood,O...  \n",
      "..                                                 ...  \n",
      "236  L'Amoreaux West\\n,Steeles West,L'Amoreaux West...  \n",
      "237  L'Amoreaux West\\n,Steeles West,L'Amoreaux West...  \n",
      "240                                           Rosedale  \n",
      "241                  Stn A PO Boxes 25 The Esplanade\\n  \n",
      "244  Alderwood,Long Branch,Alderwood,Long Branch,Al...  \n",
      "245  Alderwood,Long Branch,Alderwood,Long Branch,Al...  \n",
      "246                                          Northwest  \n",
      "247                                        Upper Rouge  \n",
      "250  Cabbagetown,St. James Town,Cabbagetown,St. Jam...  \n",
      "251  Cabbagetown,St. James Town,Cabbagetown,St. Jam...  \n",
      "252  First Canadian Place,Underground city,First Ca...  \n",
      "253  First Canadian Place,Underground city,First Ca...  \n",
      "256  The Kingsway,Montgomery Road\\n,Old Mill North\\...  \n",
      "257  The Kingsway,Montgomery Road\\n,Old Mill North\\...  \n",
      "258  The Kingsway,Montgomery Road\\n,Old Mill North\\...  \n",
      "263                               Church and Wellesley  \n",
      "266  Business reply mail Processing Centre969 Easte...  \n",
      "267  Humber Bay,King's Mill Park,Kingsway Park Sout...  \n",
      "268  Humber Bay,King's Mill Park,Kingsway Park Sout...  \n",
      "269  Humber Bay,King's Mill Park,Kingsway Park Sout...  \n",
      "270  Humber Bay,King's Mill Park,Kingsway Park Sout...  \n",
      "271  Humber Bay,King's Mill Park,Kingsway Park Sout...  \n",
      "272  Humber Bay,King's Mill Park,Kingsway Park Sout...  \n",
      "273  Humber Bay,King's Mill Park,Kingsway Park Sout...  \n",
      "274  Humber Bay,King's Mill Park,Kingsway Park Sout...  \n",
      "283  Kingsway Park South West\\n,Mimico NW,The Queen...  \n",
      "284  Kingsway Park South West\\n,Mimico NW,The Queen...  \n",
      "285  Kingsway Park South West\\n,Mimico NW,The Queen...  \n",
      "286  Kingsway Park South West\\n,Mimico NW,The Queen...  \n",
      "287  Kingsway Park South West\\n,Mimico NW,The Queen...  \n",
      "\n",
      "[212 rows x 3 columns]\n"
     ]
    }
   ],
   "source": [
    "print(nh_df)"
   ]
  },
  {
   "cell_type": "code",
   "execution_count": 35,
   "metadata": {},
   "outputs": [
    {
     "data": {
      "text/plain": [
       "(212, 3)"
      ]
     },
     "execution_count": 35,
     "metadata": {},
     "output_type": "execute_result"
    }
   ],
   "source": [
    "nh_df.shape"
   ]
  }
 ],
 "metadata": {
  "kernelspec": {
   "display_name": "Python 3",
   "language": "python",
   "name": "python3"
  },
  "language_info": {
   "codemirror_mode": {
    "name": "ipython",
    "version": 3
   },
   "file_extension": ".py",
   "mimetype": "text/x-python",
   "name": "python",
   "nbconvert_exporter": "python",
   "pygments_lexer": "ipython3",
   "version": "3.6.5"
  }
 },
 "nbformat": 4,
 "nbformat_minor": 2
}
