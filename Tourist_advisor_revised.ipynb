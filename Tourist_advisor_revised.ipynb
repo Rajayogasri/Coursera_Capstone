{
 "cells": [
  {
   "cell_type": "markdown",
   "metadata": {},
   "source": [
    "# Tourist Advisor\n",
    "Tool that helps with the Tourist on the trip plan.  Takes the City to be visited as the input.  Finds the list of popular places to visit in the City.  Chart out a day to day itinerary."
   ]
  },
  {
   "cell_type": "code",
   "execution_count": null,
   "metadata": {},
   "outputs": [],
   "source": [
    "import requests\n",
    "import pandas as pd\n",
    "pd.set_option('display.max_rows', 500)\n",
    "\n",
    "!conda install -c conda-forge geocoder -y\n",
    "!conda install -c conda-forge geopy --yes \n",
    "from geopy.geocoders import Nominatim\n",
    "\n",
    "# import k-means from clustering stage\n",
    "from sklearn.cluster import KMeans\n",
    "\n",
    "!conda install -c conda-forge folium=0.5.0 --yes # uncomment this line if you haven't completed the Foursquare API lab\n",
    "import folium # map rendering library\n",
    "\n",
    "# Matplotlib and associated plotting modules\n",
    "import matplotlib.cm as cm\n",
    "import matplotlib.colors as colors\n",
    "import numpy as np\n",
    "\n",
    "print('Libraries imported.')"
   ]
  },
  {
   "cell_type": "code",
   "execution_count": null,
   "metadata": {},
   "outputs": [],
   "source": [
    "CLIENT_ID = 'LSC31VKD4CEXLCRBGKZXS1ZGXYVWG2ANHWRG0XKS1WEPBZQG' # your Foursquare ID\n",
    "CLIENT_SECRET = '11RZFCKAHBOEKJCWFJHDQALNAIJFNBCURFYL5MZAAP40PUXA' # your Foursquare Secret\n",
    "VERSION = '20180605' # Foursquare API version\n",
    "\n",
    "print('Your credentails:')\n",
    "print('CLIENT_ID: ' + CLIENT_ID)\n",
    "print('CLIENT_SECRET:' + CLIENT_SECRET)"
   ]
  },
  {
   "cell_type": "markdown",
   "metadata": {},
   "source": [
    "### Step 0:  Input the City being visited and the number of days of stay"
   ]
  },
  {
   "cell_type": "code",
   "execution_count": null,
   "metadata": {},
   "outputs": [],
   "source": [
    "address = 'Bangalore, India'\n",
    "duration = 3   # 3 days"
   ]
  },
  {
   "cell_type": "markdown",
   "metadata": {},
   "source": [
    "### Step 1:  Using geocoders Nominatim MAP API find the latitude and longitude of the City"
   ]
  },
  {
   "cell_type": "code",
   "execution_count": null,
   "metadata": {},
   "outputs": [],
   "source": [
    "geolocator = Nominatim()\n",
    "location = geolocator.geocode(address)\n",
    "lat = location.latitude\n",
    "lng = location.longitude\n",
    "print('The geograpical coordinate of Bangalore are {}, {}.'.format(lat, lng))"
   ]
  },
  {
   "cell_type": "markdown",
   "metadata": {},
   "source": [
    "### Step 2: Using Foursqaure Venues/Categories API get the list of supported venue categories."
   ]
  },
  {
   "cell_type": "code",
   "execution_count": null,
   "metadata": {},
   "outputs": [],
   "source": [
    "cat_url = 'https://api.foursquare.com/v2/venues/categories?&client_id={}&client_secret={}&v={}'.format(CLIENT_ID, \n",
    "            CLIENT_SECRET, \n",
    "            VERSION)\n",
    "cat_result = requests.get(cat_url).json()"
   ]
  },
  {
   "cell_type": "markdown",
   "metadata": {},
   "source": [
    "### Step 3:  Filter tourist attractive categories from the response"
   ]
  },
  {
   "cell_type": "code",
   "execution_count": null,
   "metadata": {},
   "outputs": [],
   "source": [
    "tourism_categories = ['Theme Park', 'Park', 'National Park', 'Botanical Garden', 'Museum', 'Palace', 'Temple', \n",
    "                      'Aquarium', 'Planetarium', 'Zoo', 'Monument / Landmark', 'Capitol Building', 'Spiritual Center']  # Only a limited list is taken for this demo"
   ]
  },
  {
   "cell_type": "code",
   "execution_count": null,
   "metadata": {},
   "outputs": [],
   "source": [
    "fs_tourism_cat_list = []\n",
    "fs_tourism_cat_id = []\n",
    "for c1 in cat_result['response']['categories']:\n",
    "    if c1['name'] in tourism_categories:\n",
    "        fs_tourism_cat_list.append([c1['name'],c1['id']])\n",
    "        fs_tourism_cat_id.append(c1['id'])\n",
    "    for c2 in c1['categories']:\n",
    "        if c2['name'] in tourism_categories:\n",
    "                fs_tourism_cat_list.append([c2['name'],c2['id']])\n",
    "                fs_tourism_cat_id.append(c2['id'])\n",
    "        if (len(c2['categories']) != 0):\n",
    "            for c3 in c2['categories']:\n",
    "                if c3['name'] in tourism_categories:\n",
    "                    fs_tourism_cat_list.append([c3['name'],c3['id']])\n",
    "                    fs_tourism_cat_id.append(c3['id'])\n",
    "                "
   ]
  },
  {
   "cell_type": "markdown",
   "metadata": {},
   "source": [
    "### Step 3:  List the tourism categories, so that the user can select the categories of interested to him"
   ]
  },
  {
   "cell_type": "markdown",
   "metadata": {},
   "source": [
    "#### This step is ommitted in this implementation.  Instead all the filtered tourism categories are used."
   ]
  },
  {
   "cell_type": "markdown",
   "metadata": {},
   "source": [
    "### Step 4: Using the Foursqaure Venues/explore API get the list of Venues matching the tourism categories."
   ]
  },
  {
   "cell_type": "code",
   "execution_count": null,
   "metadata": {},
   "outputs": [],
   "source": [
    "# Parameters for the foursquare APIs\n",
    "LIMIT=100\n",
    "radius = 500000  # 500km"
   ]
  },
  {
   "cell_type": "code",
   "execution_count": null,
   "metadata": {},
   "outputs": [],
   "source": [
    "results = []\n",
    "for index, cid in enumerate(fs_tourism_cat_id):\n",
    "    url = 'https://api.foursquare.com/v2/venues/search?&client_id={}&client_secret={}&v={}&ll={},{}&categoryId={}&radius={}&limit={}'.format(\n",
    "            CLIENT_ID, \n",
    "            CLIENT_SECRET, \n",
    "            VERSION, \n",
    "            lat, \n",
    "            lng, \n",
    "            cid,\n",
    "            radius, \n",
    "            LIMIT)\n",
    "    results.append(requests.get(url).json())"
   ]
  },
  {
   "cell_type": "markdown",
   "metadata": {},
   "source": [
    "#### Step 5: Convert the response received in the json format to Dataframe with columns, Venue Name, ID, Category, Latitude and Longitude. "
   ]
  },
  {
   "cell_type": "code",
   "execution_count": null,
   "metadata": {},
   "outputs": [],
   "source": [
    "venues_list=[]\n",
    "for res in results:\n",
    "    if (len(res['response'])  != 0):\n",
    "        for v in res['response']['venues']:\n",
    "            # return only relevant information for each nearby venue\n",
    "            if (len(v['categories']) != 0):\n",
    "                venues_list.append((\n",
    "                    v['name'],         \n",
    "                    v['location']['lat'], \n",
    "                    v['location']['lng'],\n",
    "                    v['categories'][0]['name'],\n",
    "                    v['id']))"
   ]
  },
  {
   "cell_type": "code",
   "execution_count": null,
   "metadata": {},
   "outputs": [],
   "source": [
    "travel_venues = pd.DataFrame(venues_list)\n",
    "travel_venues.columns = ['Name', 'Latitude', 'Longtitude', 'Category', 'Id']"
   ]
  },
  {
   "cell_type": "markdown",
   "metadata": {},
   "source": [
    "### Step 6: Using the Foursquare Venues/VenueID API get the details of each travel venue.  "
   ]
  },
  {
   "cell_type": "raw",
   "metadata": {},
   "source": [
    "venue_details = []\n",
    "for index, v in enumerate(travel_venues):\n",
    "    url = 'https://api.foursquare.com/v2/venues/{}?&client_id={}&client_secret={}&v={}'.format(\n",
    "            v['Id'],\n",
    "            CLIENT_ID, \n",
    "            CLIENT_SECRET, \n",
    "            VERSION)\n",
    "    venue_details.append(requests.get(url).json())"
   ]
  },
  {
   "cell_type": "markdown",
   "metadata": {},
   "source": [
    "### Step 7: Add the columns 'Rating' and 'Likes' to the dataframe based on the values received from the Venue details"
   ]
  },
  {
   "cell_type": "raw",
   "metadata": {},
   "source": [
    "travel_venues['Rating'] = 0\n",
    "travel_venues['Likes'] = 0\n",
    "travel_venues.set_index('Id', inplace=True)\n",
    "for detail in venue_details:\n",
    "    travel_venues[detail['response']['venue']['id'], 'Rating'] = detail['response']['venue']['rating']\n",
    "    travel_venues[detail['response']['venue']['id'], 'Likes'] = detail['response']['venue']['like']['count']"
   ]
  },
  {
   "cell_type": "markdown",
   "metadata": {},
   "source": [
    "### Step 8: Sort the dataframe based on the Rating and Likes.  Pick up top N travel venues.  "
   ]
  },
  {
   "cell_type": "raw",
   "metadata": {},
   "source": [
    "travel_venues_sorted = travel_venues.sort(['Rating', 'Likes'], ascending=[False, False])\n",
    "N = duration * 5  # Approximately 5 venues to be covred in a day\n",
    "top_travel_venues = travel_venues_sorted[:N, :]"
   ]
  },
  {
   "cell_type": "markdown",
   "metadata": {},
   "source": [
    "##### The above steps are ommitted for this implementation.  As they require multiple calls to the venue/venueID api and venue/venueID calls are limitted 50 per day in Sandbox account. Hence the top travel venues are picked up based on the below list."
   ]
  },
  {
   "cell_type": "code",
   "execution_count": null,
   "metadata": {},
   "outputs": [],
   "source": [
    "top_travel_venues = ['Cubbon Park', 'Lalbagh Botanical Garden', 'Bangalore Fort', \"Tipu's Summer Palace\", 'Bangalore Palace', 'Vidhana Soudha', 'Government Museum', \n",
    "                    'Heritage Centre & Aerospace Museum', 'Visvesvaraya Industrial and Technological Museum', 'Jawaharlal Nehru Planetarium', 'Bannerghatta National Park', 'Butterfly Park',\n",
    "                    'Bangalore Aquarium', 'Wonder la Amusement Park', 'Innovative Film City', 'ISKCON Bangalore', 'Bull Temple', 'Art of Living International Center']"
   ]
  },
  {
   "cell_type": "code",
   "execution_count": null,
   "metadata": {},
   "outputs": [],
   "source": [
    "top_venues = pd.DataFrame(columns=['Name', 'Category', 'Id', 'Latitude', 'Longtitude'])\n",
    "for index, v in travel_venues.iterrows():\n",
    "    if v['Name'] in top_travel_venues:\n",
    "        top_venues = top_venues.append(v, ignore_index=True)\n",
    "top_venues.drop_duplicates('Name', keep='first', inplace=True)\n",
    "top_venues.reset_index(inplace=True)\n",
    "top_venues"
   ]
  },
  {
   "cell_type": "markdown",
   "metadata": {},
   "source": [
    "### Step 9: Form a new dataframe by dropping Id, Category, Rating and Likes columns."
   ]
  },
  {
   "cell_type": "code",
   "execution_count": null,
   "metadata": {},
   "outputs": [],
   "source": [
    "top_venues_clustering = top_venues.drop(['index', 'Name', 'Category', 'Id'], 1)\n",
    "top_venues_clustering"
   ]
  },
  {
   "cell_type": "markdown",
   "metadata": {},
   "source": [
    "### Step 10:  Use K-Means clustering to segment venues based on the Latitude and Longitude values"
   ]
  },
  {
   "cell_type": "code",
   "execution_count": null,
   "metadata": {},
   "outputs": [],
   "source": [
    "# set number of clusters\n",
    "kclusters = duration\n",
    "\n",
    "# run k-means clustering\n",
    "kmeans = KMeans(init = \"k-means++\", n_clusters=kclusters, n_init = 12).fit(top_venues_clustering)\n",
    "\n",
    "# check cluster labels generated for each row in the dataframe\n",
    "kmeans.labels_"
   ]
  },
  {
   "cell_type": "code",
   "execution_count": null,
   "metadata": {},
   "outputs": [],
   "source": [
    "venues_grouped = top_venues.drop(['index', 'Id'], axis=1)\n",
    "\n",
    "# add clustering labels\n",
    "venues_grouped['Cluster Labels'] = kmeans.labels_\n",
    "venues_grouped "
   ]
  },
  {
   "cell_type": "markdown",
   "metadata": {},
   "source": [
    "### Step 11:  Display the list of venues (Itinerary for each day) "
   ]
  },
  {
   "cell_type": "markdown",
   "metadata": {},
   "source": [
    "#### Day1 itinerary"
   ]
  },
  {
   "cell_type": "code",
   "execution_count": null,
   "metadata": {},
   "outputs": [],
   "source": [
    "venues_grouped.loc[venues_grouped['Cluster Labels'] == 0, ['Name', 'Category']]"
   ]
  },
  {
   "cell_type": "markdown",
   "metadata": {},
   "source": [
    "#### Day2 itinerary"
   ]
  },
  {
   "cell_type": "code",
   "execution_count": null,
   "metadata": {},
   "outputs": [],
   "source": [
    "venues_grouped.loc[venues_grouped['Cluster Labels'] == 1, ['Name', 'Category']]"
   ]
  },
  {
   "cell_type": "markdown",
   "metadata": {},
   "source": [
    "#### Day3 itinerary"
   ]
  },
  {
   "cell_type": "code",
   "execution_count": null,
   "metadata": {},
   "outputs": [],
   "source": [
    "venues_grouped.loc[venues_grouped['Cluster Labels'] == 2, ['Name', 'Category']]"
   ]
  },
  {
   "cell_type": "markdown",
   "metadata": {},
   "source": [
    "### Step 12: Use Folium to visualize the travel venues on the City map. \n",
    "#### (Day1 = Red , Day2 = Purple, Day3 = Green)"
   ]
  },
  {
   "cell_type": "code",
   "execution_count": null,
   "metadata": {},
   "outputs": [],
   "source": [
    "# create map\n",
    "map_clusters = folium.Map(location=[lat, lng], zoom_start=11)\n",
    "\n",
    "# set color scheme for the clusters\n",
    "x = np.arange(kclusters)\n",
    "ys = [i+x+(i*x)**2 for i in range(kclusters)]\n",
    "colors_array = cm.rainbow(np.linspace(0, 1, len(ys)))\n",
    "rainbow = [colors.rgb2hex(i) for i in colors_array]\n",
    "\n",
    "# add markers to the map\n",
    "markers_colors = []\n",
    "for lat, lon, poi, cluster in zip(venues_grouped['Latitude'], venues_grouped['Longtitude'], venues_grouped['Name'], venues_grouped['Cluster Labels']):\n",
    "    label = folium.Popup(str(poi) + ' Cluster ' + str(cluster), parse_html=True)\n",
    "    folium.CircleMarker(\n",
    "        [lat, lon],\n",
    "        radius=5,\n",
    "        popup=label,\n",
    "        color=rainbow[cluster-1],\n",
    "        fill=True,\n",
    "        fill_color=rainbow[cluster-1],\n",
    "        fill_opacity=0.7).add_to(map_clusters)\n",
    "       \n",
    "map_clusters"
   ]
  },
  {
   "cell_type": "code",
   "execution_count": null,
   "metadata": {},
   "outputs": [],
   "source": []
  }
 ],
 "metadata": {
  "kernelspec": {
   "display_name": "Python 3",
   "language": "python",
   "name": "python3"
  },
  "language_info": {
   "codemirror_mode": {
    "name": "ipython",
    "version": 3
   },
   "file_extension": ".py",
   "mimetype": "text/x-python",
   "name": "python",
   "nbconvert_exporter": "python",
   "pygments_lexer": "ipython3",
   "version": "3.6.5"
  }
 },
 "nbformat": 4,
 "nbformat_minor": 2
}
